{
 "cells": [
  {
   "cell_type": "code",
   "execution_count": 94,
   "id": "3c68952a",
   "metadata": {},
   "outputs": [],
   "source": [
    "import torch\n",
    "import torch.nn as nn\n",
    "import torch.optim as optim\n",
    "from torch.utils.data import DataLoader, TensorDataset\n",
    "import matplotlib.pyplot as plt"
   ]
  },
  {
   "cell_type": "markdown",
   "id": "6faba453",
   "metadata": {},
   "source": [
    "# Manually compute the components of a GRU cell"
   ]
  },
  {
   "cell_type": "code",
   "execution_count": 95,
   "id": "ed1b6968",
   "metadata": {},
   "outputs": [],
   "source": [
    "# Define input and hidden state sizes\n",
    "n_features = 2\n",
    "hidden_dim = 2"
   ]
  },
  {
   "cell_type": "code",
   "execution_count": 96,
   "id": "ab5b465b",
   "metadata": {},
   "outputs": [
    {
     "data": {
      "text/plain": [
       "OrderedDict([('weight_ih',\n",
       "              tensor([[-0.0930,  0.0497],\n",
       "                      [ 0.4670, -0.5319],\n",
       "                      [-0.6656,  0.0699],\n",
       "                      [-0.1662,  0.0654],\n",
       "                      [-0.0449, -0.6828],\n",
       "                      [-0.6769, -0.1889]])),\n",
       "             ('weight_hh',\n",
       "              tensor([[-0.4167, -0.4352],\n",
       "                      [-0.2060, -0.3989],\n",
       "                      [-0.7070, -0.5083],\n",
       "                      [ 0.1418,  0.0930],\n",
       "                      [-0.5729, -0.5700],\n",
       "                      [-0.1818, -0.6691]])),\n",
       "             ('bias_ih',\n",
       "              tensor([-0.4316,  0.4019,  0.1222, -0.4647, -0.5578,  0.4493])),\n",
       "             ('bias_hh',\n",
       "              tensor([-0.6800,  0.4422, -0.3559, -0.0279,  0.6553,  0.2918]))])"
      ]
     },
     "execution_count": 96,
     "metadata": {},
     "output_type": "execute_result"
    }
   ],
   "source": [
    "# Initialize GRU cell\n",
    "torch.manual_seed(17)\n",
    "gru_cell = nn.GRUCell(input_size=n_features, hidden_size=hidden_dim)\n",
    "gru_state = gru_cell.state_dict()\n",
    "gru_state"
   ]
  },
  {
   "cell_type": "code",
   "execution_count": 97,
   "id": "940ae495",
   "metadata": {},
   "outputs": [
    {
     "name": "stdout",
     "output_type": "stream",
     "text": [
      "torch.Size([6, 2]) torch.Size([6, 2])\n",
      "torch.Size([6]) torch.Size([6])\n"
     ]
    }
   ],
   "source": [
    "Wx, bx = gru_state['weight_ih'], gru_state['bias_ih']\n",
    "Wh, bh = gru_state['weight_hh'], gru_state['bias_hh']\n",
    "print(Wx.shape, Wh.shape)\n",
    "print(bx.shape, bh.shape)"
   ]
  },
  {
   "cell_type": "code",
   "execution_count": 98,
   "id": "7a3f80a8",
   "metadata": {},
   "outputs": [],
   "source": [
    "# Split weights and biases for reset gate (r), update gate (z), and candidate hidden state (n)\n",
    "Wxr, Wxz, Wxn = Wx.split(hidden_dim, dim=0)\n",
    "bxr, bxz, bxn = bx.split(hidden_dim, dim=0)\n",
    "Whr, Whz, Whn = Wh.split(hidden_dim, dim=0)\n",
    "bhr, bhz, bhn = bh.split(hidden_dim, dim=0)"
   ]
  },
  {
   "cell_type": "code",
   "execution_count": 99,
   "id": "c690822e",
   "metadata": {},
   "outputs": [],
   "source": [
    "# Define linear layers for each gate and the candidate state\n",
    "def linear_layers(Wx, bx, Wh, bh):\n",
    "    hidden_dim, n_features = Wx.size()\n",
    "    lin_input = nn.Linear(n_features, hidden_dim)\n",
    "    lin_input.load_state_dict({'weight': Wx, 'bias': bx})\n",
    "    lin_hidden = nn.Linear(hidden_dim, hidden_dim)\n",
    "    lin_hidden.load_state_dict({'weight': Wh, 'bias': bh})\n",
    "    return lin_hidden, lin_input"
   ]
  },
  {
   "cell_type": "code",
   "execution_count": 100,
   "id": "f3e3d19a",
   "metadata": {},
   "outputs": [],
   "source": [
    "# Create linear layers for reset gate, update gate, and candidate hidden state\n",
    "r_hidden, r_input = linear_layers(Wxr, bxr, Whr, bhr)\n",
    "z_hidden, z_input = linear_layers(Wxz, bxz, Whz, bhz)\n",
    "n_hidden, n_input = linear_layers(Wxn, bxn, Whn, bhn)"
   ]
  },
  {
   "cell_type": "code",
   "execution_count": 101,
   "id": "cfcec271",
   "metadata": {},
   "outputs": [],
   "source": [
    "# Define functions for each gate and the candidate hidden state\n",
    "def reset_gate(h, x):\n",
    "    thr = r_hidden(h)\n",
    "    txr = r_input(x)\n",
    "    r = torch.sigmoid(thr + txr)\n",
    "    return r\n",
    "\n",
    "def update_gate(h, x):\n",
    "    thz = z_hidden(h)\n",
    "    txz = z_input(x)\n",
    "    z = torch.sigmoid(thz + txz)\n",
    "    return z\n",
    "\n",
    "def candidate_n(h, x, r):\n",
    "    thn = n_hidden(h)\n",
    "    txn = n_input(x)\n",
    "    n = torch.tanh(r * thn + txn)\n",
    "    return n"
   ]
  },
  {
   "cell_type": "code",
   "execution_count": 102,
   "id": "31074714",
   "metadata": {},
   "outputs": [
    {
     "name": "stdout",
     "output_type": "stream",
     "text": [
      "Reset gate (r): tensor([[0.2477, 0.6866]], grad_fn=<SigmoidBackward0>)\n",
      "Candidate hidden state (n): tensor([[-0.4904,  0.4961]], grad_fn=<TanhBackward0>)\n",
      "Update gate (z): tensor([[0.4289, 0.3784]], grad_fn=<SigmoidBackward0>)\n",
      "Final hidden state (h_prime): tensor([[-0.2800,  0.3084]], grad_fn=<AddBackward0>)\n",
      "Output from GRU cell: tensor([[-0.2800,  0.3084]], grad_fn=<AddBackward0>)\n"
     ]
    }
   ],
   "source": [
    "# Initial hidden state and first input\n",
    "initial_hidden = torch.zeros(1, hidden_dim)\n",
    "first_corner = torch.tensor([[0.1, 0.2]], dtype=torch.float32)\n",
    "\n",
    "# Calculate reset gate (r), candidate hidden state (n), and update gate (z)\n",
    "r = reset_gate(initial_hidden, first_corner)\n",
    "n = candidate_n(initial_hidden, first_corner, r)\n",
    "z = update_gate(initial_hidden, first_corner)\n",
    "\n",
    "# Calculate final hidden state (h_prime)\n",
    "h_prime = n * (1 - z) + initial_hidden * z\n",
    "\n",
    "print(f\"Reset gate (r): {r}\")\n",
    "print(f\"Candidate hidden state (n): {n}\")\n",
    "print(f\"Update gate (z): {z}\")\n",
    "print(f\"Final hidden state (h_prime): {h_prime}\")\n",
    "\n",
    "# Verify with PyTorch GRU cell\n",
    "output = gru_cell(first_corner, initial_hidden)\n",
    "print(f\"Output from GRU cell: {output}\")"
   ]
  },
  {
   "cell_type": "markdown",
   "id": "0d7aa121",
   "metadata": {},
   "source": [
    "# GRU"
   ]
  },
  {
   "cell_type": "code",
   "execution_count": 103,
   "id": "78eefcbf",
   "metadata": {},
   "outputs": [],
   "source": [
    "# Generate synthetic data\n",
    "def generate_sequences(seed, num_sequences=100, seq_length=10, num_features=1):\n",
    "    torch.manual_seed(seed)\n",
    "    sequences = torch.randn(num_sequences, seq_length, num_features)\n",
    "    labels = (sequences.mean(dim=1) > 0).float().view(-1, 1)  # Simple rule: label 1 if mean > 0, else 0\n",
    "    return sequences, labels"
   ]
  },
  {
   "cell_type": "code",
   "execution_count": 104,
   "id": "bd0d8604",
   "metadata": {},
   "outputs": [],
   "source": [
    "train_sequences, train_labels = generate_sequences(seed=19)\n",
    "test_sequences, test_labels = generate_sequences(seed=42)"
   ]
  },
  {
   "cell_type": "code",
   "execution_count": 105,
   "id": "990485ec",
   "metadata": {},
   "outputs": [],
   "source": [
    "train_data = TensorDataset(train_sequences, train_labels)\n",
    "test_data = TensorDataset(test_sequences, test_labels)"
   ]
  },
  {
   "cell_type": "code",
   "execution_count": 106,
   "id": "a632fc2c",
   "metadata": {},
   "outputs": [],
   "source": [
    "train_loader = DataLoader(train_data, batch_size=16, shuffle=True)\n",
    "test_loader = DataLoader(test_data, batch_size=16)"
   ]
  },
  {
   "cell_type": "markdown",
   "id": "cf1d8c52",
   "metadata": {},
   "source": [
    "# GRU Model"
   ]
  },
  {
   "cell_type": "code",
   "execution_count": 107,
   "id": "aeb31d4e",
   "metadata": {},
   "outputs": [],
   "source": [
    "class GRUModel(nn.Module):\n",
    "    \n",
    "    def __init__(self, input_size, hidden_size, output_size, num_layers=1):\n",
    "        super(GRUModel, self).__init__()\n",
    "        self.hidden_size = hidden_size\n",
    "        self.num_layers = num_layers\n",
    "        self.gru = nn.GRU(input_size, hidden_size, num_layers, batch_first=True)\n",
    "        self.fc = nn.Linear(hidden_size, output_size)\n",
    "        \n",
    "    def forward(self, x):\n",
    "        h0 = torch.zeros(self.num_layers, x.size(0), self.hidden_size).to(x.device)\n",
    "        out,_ = self.gru(x,h0)\n",
    "        out = self.fc(out[:, -1, :])  # Take the output from the last time step\n",
    "        return out"
   ]
  },
  {
   "cell_type": "code",
   "execution_count": 108,
   "id": "398b30b3",
   "metadata": {},
   "outputs": [],
   "source": [
    "# Model instance\n",
    "input_size = 1\n",
    "hidden_size = 32\n",
    "output_size = 1\n",
    "num_layers = 1\n",
    "\n",
    "model = GRUModel(input_size, hidden_size, output_size, num_layers)"
   ]
  },
  {
   "cell_type": "code",
   "execution_count": 109,
   "id": "1aa53a86",
   "metadata": {},
   "outputs": [],
   "source": [
    "loss_fn = nn.BCEWithLogitsLoss()\n",
    "optimizer = optim.Adam(model.parameters(), lr=0.01)"
   ]
  },
  {
   "cell_type": "code",
   "execution_count": 110,
   "id": "dd12ebed",
   "metadata": {},
   "outputs": [],
   "source": [
    "def train(model, train_loader, loss_fn, optimizer, epochs=10):\n",
    "    model.train()\n",
    "    train_losses = []\n",
    "    for epoch in range(epochs):\n",
    "        epoch_loss = 0\n",
    "        for sequences, labels in train_loader:\n",
    "            optimizer.zero_grad()\n",
    "            outputs = model(sequences)\n",
    "            loss = loss_fn(outputs, labels)\n",
    "            loss.backward()\n",
    "            optimizer.step()\n",
    "            epoch_loss += loss.item()\n",
    "        avg_loss = epoch_loss / len(train_loader)\n",
    "        train_losses.append(avg_loss)\n",
    "        print(f'Epoch {epoch+1}, Training Loss: {avg_loss:.4f}')\n",
    "    return train_losses"
   ]
  },
  {
   "cell_type": "code",
   "execution_count": 111,
   "id": "5c83405d",
   "metadata": {},
   "outputs": [],
   "source": [
    "# train_losses = train(model, train_loader, loss_fn, optimizer, epochs=100)"
   ]
  },
  {
   "cell_type": "code",
   "execution_count": 112,
   "id": "85fd73d3",
   "metadata": {},
   "outputs": [],
   "source": [
    "def evaluate(model, test_loader, loss_fn):\n",
    "    model.eval()\n",
    "    epoch_val_loss = 0\n",
    "    correct = 0\n",
    "    total = 0\n",
    "    with torch.no_grad():\n",
    "        for sequences, labels in test_loader:\n",
    "            outputs = model(sequences)\n",
    "            loss = loss_fn(outputs, labels)\n",
    "            epoch_val_loss += loss.item()\n",
    "            predicted = (torch.sigmoid(outputs) > 0.5).float()\n",
    "            total += labels.size(0)\n",
    "            correct += (predicted == labels).sum().item()\n",
    "    avg_val_loss = epoch_val_loss / len(test_loader)\n",
    "    accuracy = correct / total\n",
    "    print(f'Validation Loss: {avg_val_loss:.4f}, Accuracy: {accuracy * 100:.2f}%')\n",
    "    return avg_val_loss, accuracy"
   ]
  },
  {
   "cell_type": "code",
   "execution_count": 113,
   "id": "91f86f20",
   "metadata": {},
   "outputs": [
    {
     "name": "stdout",
     "output_type": "stream",
     "text": [
      "Epoch 1, Training Loss: 0.6842\n",
      "Validation Loss: 0.6372, Accuracy: 70.00%\n",
      "Epoch 1, Training Loss: 0.5693\n",
      "Validation Loss: 0.4345, Accuracy: 93.00%\n",
      "Epoch 1, Training Loss: 0.3328\n",
      "Validation Loss: 0.3802, Accuracy: 84.00%\n",
      "Epoch 1, Training Loss: 0.2772\n",
      "Validation Loss: 0.2073, Accuracy: 97.00%\n",
      "Epoch 1, Training Loss: 0.1647\n",
      "Validation Loss: 0.1589, Accuracy: 90.00%\n",
      "Epoch 1, Training Loss: 0.1640\n",
      "Validation Loss: 0.1427, Accuracy: 94.00%\n",
      "Epoch 1, Training Loss: 0.1184\n",
      "Validation Loss: 0.1567, Accuracy: 90.00%\n",
      "Epoch 1, Training Loss: 0.1225\n",
      "Validation Loss: 0.1375, Accuracy: 95.00%\n",
      "Epoch 1, Training Loss: 0.1553\n",
      "Validation Loss: 0.1186, Accuracy: 94.00%\n",
      "Epoch 1, Training Loss: 0.1360\n",
      "Validation Loss: 0.1477, Accuracy: 90.00%\n",
      "Epoch 1, Training Loss: 0.1199\n",
      "Validation Loss: 0.0833, Accuracy: 98.00%\n",
      "Epoch 1, Training Loss: 0.0899\n",
      "Validation Loss: 0.0959, Accuracy: 95.00%\n",
      "Epoch 1, Training Loss: 0.1040\n",
      "Validation Loss: 0.0958, Accuracy: 95.00%\n",
      "Epoch 1, Training Loss: 0.0799\n",
      "Validation Loss: 0.0728, Accuracy: 98.00%\n",
      "Epoch 1, Training Loss: 0.0696\n",
      "Validation Loss: 0.1299, Accuracy: 92.00%\n",
      "Epoch 1, Training Loss: 0.0954\n",
      "Validation Loss: 0.1970, Accuracy: 93.00%\n",
      "Epoch 1, Training Loss: 0.1857\n",
      "Validation Loss: 0.0763, Accuracy: 96.00%\n",
      "Epoch 1, Training Loss: 0.1425\n",
      "Validation Loss: 0.0731, Accuracy: 96.00%\n",
      "Epoch 1, Training Loss: 0.0923\n",
      "Validation Loss: 0.0745, Accuracy: 96.00%\n",
      "Epoch 1, Training Loss: 0.1281\n",
      "Validation Loss: 0.0977, Accuracy: 95.00%\n",
      "Epoch 1, Training Loss: 0.0805\n",
      "Validation Loss: 0.1054, Accuracy: 95.00%\n",
      "Epoch 1, Training Loss: 0.0773\n",
      "Validation Loss: 0.1464, Accuracy: 91.00%\n",
      "Epoch 1, Training Loss: 0.0570\n",
      "Validation Loss: 0.0887, Accuracy: 96.00%\n",
      "Epoch 1, Training Loss: 0.0624\n",
      "Validation Loss: 0.1359, Accuracy: 95.00%\n",
      "Epoch 1, Training Loss: 0.0586\n",
      "Validation Loss: 0.0599, Accuracy: 98.00%\n",
      "Epoch 1, Training Loss: 0.0783\n",
      "Validation Loss: 0.2147, Accuracy: 89.00%\n",
      "Epoch 1, Training Loss: 0.0591\n",
      "Validation Loss: 0.0642, Accuracy: 97.00%\n",
      "Epoch 1, Training Loss: 0.1476\n",
      "Validation Loss: 0.2838, Accuracy: 90.00%\n",
      "Epoch 1, Training Loss: 0.4056\n",
      "Validation Loss: 0.1173, Accuracy: 95.00%\n",
      "Epoch 1, Training Loss: 0.1572\n",
      "Validation Loss: 0.0749, Accuracy: 98.00%\n",
      "Epoch 1, Training Loss: 0.0678\n",
      "Validation Loss: 0.2262, Accuracy: 90.00%\n",
      "Epoch 1, Training Loss: 0.1027\n",
      "Validation Loss: 0.1203, Accuracy: 95.00%\n",
      "Epoch 1, Training Loss: 0.1005\n",
      "Validation Loss: 0.0991, Accuracy: 94.00%\n",
      "Epoch 1, Training Loss: 0.0610\n",
      "Validation Loss: 0.1861, Accuracy: 92.00%\n",
      "Epoch 1, Training Loss: 0.0404\n",
      "Validation Loss: 0.1221, Accuracy: 94.00%\n",
      "Epoch 1, Training Loss: 0.0395\n",
      "Validation Loss: 0.1144, Accuracy: 94.00%\n",
      "Epoch 1, Training Loss: 0.0281\n",
      "Validation Loss: 0.1423, Accuracy: 93.00%\n",
      "Epoch 1, Training Loss: 0.0260\n",
      "Validation Loss: 0.1187, Accuracy: 95.00%\n",
      "Epoch 1, Training Loss: 0.0188\n",
      "Validation Loss: 0.1249, Accuracy: 94.00%\n",
      "Epoch 1, Training Loss: 0.0167\n",
      "Validation Loss: 0.1382, Accuracy: 94.00%\n",
      "Epoch 1, Training Loss: 0.0147\n",
      "Validation Loss: 0.1350, Accuracy: 94.00%\n",
      "Epoch 1, Training Loss: 0.0120\n",
      "Validation Loss: 0.1327, Accuracy: 95.00%\n",
      "Epoch 1, Training Loss: 0.0121\n",
      "Validation Loss: 0.1571, Accuracy: 93.00%\n",
      "Epoch 1, Training Loss: 0.0083\n",
      "Validation Loss: 0.1305, Accuracy: 96.00%\n",
      "Epoch 1, Training Loss: 0.0076\n",
      "Validation Loss: 0.1331, Accuracy: 96.00%\n",
      "Epoch 1, Training Loss: 0.0061\n",
      "Validation Loss: 0.1431, Accuracy: 96.00%\n",
      "Epoch 1, Training Loss: 0.0071\n",
      "Validation Loss: 0.1470, Accuracy: 95.00%\n",
      "Epoch 1, Training Loss: 0.0046\n",
      "Validation Loss: 0.1439, Accuracy: 95.00%\n",
      "Epoch 1, Training Loss: 0.0043\n",
      "Validation Loss: 0.1411, Accuracy: 96.00%\n",
      "Epoch 1, Training Loss: 0.0040\n",
      "Validation Loss: 0.1518, Accuracy: 96.00%\n",
      "Epoch 1, Training Loss: 0.0034\n",
      "Validation Loss: 0.1515, Accuracy: 95.00%\n",
      "Epoch 1, Training Loss: 0.0028\n",
      "Validation Loss: 0.1502, Accuracy: 95.00%\n",
      "Epoch 1, Training Loss: 0.0026\n",
      "Validation Loss: 0.1458, Accuracy: 96.00%\n",
      "Epoch 1, Training Loss: 0.0031\n",
      "Validation Loss: 0.1547, Accuracy: 96.00%\n",
      "Epoch 1, Training Loss: 0.0024\n",
      "Validation Loss: 0.1781, Accuracy: 93.00%\n",
      "Epoch 1, Training Loss: 0.0022\n",
      "Validation Loss: 0.1722, Accuracy: 95.00%\n",
      "Epoch 1, Training Loss: 0.0019\n",
      "Validation Loss: 0.1597, Accuracy: 96.00%\n",
      "Epoch 1, Training Loss: 0.0023\n",
      "Validation Loss: 0.1541, Accuracy: 95.00%\n",
      "Epoch 1, Training Loss: 0.0018\n",
      "Validation Loss: 0.1840, Accuracy: 94.00%\n",
      "Epoch 1, Training Loss: 0.0017\n",
      "Validation Loss: 0.1861, Accuracy: 94.00%\n",
      "Epoch 1, Training Loss: 0.0015\n",
      "Validation Loss: 0.1785, Accuracy: 94.00%\n",
      "Epoch 1, Training Loss: 0.0015\n",
      "Validation Loss: 0.1644, Accuracy: 94.00%\n",
      "Epoch 1, Training Loss: 0.0012\n",
      "Validation Loss: 0.1684, Accuracy: 94.00%\n",
      "Epoch 1, Training Loss: 0.0017\n",
      "Validation Loss: 0.1730, Accuracy: 94.00%\n",
      "Epoch 1, Training Loss: 0.0014\n",
      "Validation Loss: 0.1800, Accuracy: 94.00%\n",
      "Epoch 1, Training Loss: 0.0012\n",
      "Validation Loss: 0.1864, Accuracy: 94.00%\n",
      "Epoch 1, Training Loss: 0.0011\n",
      "Validation Loss: 0.1868, Accuracy: 94.00%\n",
      "Epoch 1, Training Loss: 0.0010\n",
      "Validation Loss: 0.1878, Accuracy: 94.00%\n",
      "Epoch 1, Training Loss: 0.0011\n",
      "Validation Loss: 0.1851, Accuracy: 94.00%\n",
      "Epoch 1, Training Loss: 0.0009\n",
      "Validation Loss: 0.1855, Accuracy: 94.00%\n",
      "Epoch 1, Training Loss: 0.0009\n",
      "Validation Loss: 0.1890, Accuracy: 94.00%\n",
      "Epoch 1, Training Loss: 0.0008\n",
      "Validation Loss: 0.1890, Accuracy: 94.00%\n",
      "Epoch 1, Training Loss: 0.0009\n",
      "Validation Loss: 0.1883, Accuracy: 94.00%\n",
      "Epoch 1, Training Loss: 0.0007\n",
      "Validation Loss: 0.1936, Accuracy: 94.00%\n",
      "Epoch 1, Training Loss: 0.0007\n",
      "Validation Loss: 0.1950, Accuracy: 94.00%\n",
      "Epoch 1, Training Loss: 0.0007\n",
      "Validation Loss: 0.1963, Accuracy: 94.00%\n",
      "Epoch 1, Training Loss: 0.0008\n",
      "Validation Loss: 0.2009, Accuracy: 94.00%\n",
      "Epoch 1, Training Loss: 0.0007\n",
      "Validation Loss: 0.2104, Accuracy: 94.00%\n",
      "Epoch 1, Training Loss: 0.0007\n",
      "Validation Loss: 0.2043, Accuracy: 94.00%\n",
      "Epoch 1, Training Loss: 0.0007\n",
      "Validation Loss: 0.1935, Accuracy: 94.00%\n",
      "Epoch 1, Training Loss: 0.0006\n",
      "Validation Loss: 0.1934, Accuracy: 94.00%\n",
      "Epoch 1, Training Loss: 0.0006\n",
      "Validation Loss: 0.1928, Accuracy: 94.00%\n",
      "Epoch 1, Training Loss: 0.0007\n",
      "Validation Loss: 0.1982, Accuracy: 94.00%\n",
      "Epoch 1, Training Loss: 0.0006\n",
      "Validation Loss: 0.2064, Accuracy: 94.00%\n",
      "Epoch 1, Training Loss: 0.0006\n",
      "Validation Loss: 0.2100, Accuracy: 94.00%\n",
      "Epoch 1, Training Loss: 0.0005\n",
      "Validation Loss: 0.2103, Accuracy: 94.00%\n",
      "Epoch 1, Training Loss: 0.0005\n",
      "Validation Loss: 0.2125, Accuracy: 94.00%\n",
      "Epoch 1, Training Loss: 0.0004\n",
      "Validation Loss: 0.2126, Accuracy: 94.00%\n",
      "Epoch 1, Training Loss: 0.0005\n",
      "Validation Loss: 0.2115, Accuracy: 94.00%\n",
      "Epoch 1, Training Loss: 0.0004\n",
      "Validation Loss: 0.2159, Accuracy: 94.00%\n",
      "Epoch 1, Training Loss: 0.0005\n",
      "Validation Loss: 0.2164, Accuracy: 94.00%\n",
      "Epoch 1, Training Loss: 0.0004\n",
      "Validation Loss: 0.2208, Accuracy: 94.00%\n",
      "Epoch 1, Training Loss: 0.0004\n",
      "Validation Loss: 0.2214, Accuracy: 94.00%\n",
      "Epoch 1, Training Loss: 0.0004\n",
      "Validation Loss: 0.2196, Accuracy: 94.00%\n",
      "Epoch 1, Training Loss: 0.0004\n",
      "Validation Loss: 0.2150, Accuracy: 94.00%\n",
      "Epoch 1, Training Loss: 0.0003\n",
      "Validation Loss: 0.2191, Accuracy: 94.00%\n",
      "Epoch 1, Training Loss: 0.0004\n",
      "Validation Loss: 0.2221, Accuracy: 94.00%\n",
      "Epoch 1, Training Loss: 0.0003\n",
      "Validation Loss: 0.2234, Accuracy: 94.00%\n",
      "Epoch 1, Training Loss: 0.0003\n",
      "Validation Loss: 0.2281, Accuracy: 94.00%\n",
      "Epoch 1, Training Loss: 0.0003\n",
      "Validation Loss: 0.2298, Accuracy: 94.00%\n"
     ]
    }
   ],
   "source": [
    "train_losses = []\n",
    "val_losses = []\n",
    "epochs = 100\n",
    "for epoch in range(epochs):\n",
    "    train_loss = train(model, train_loader, loss_fn, optimizer, epochs=1)\n",
    "    val_loss, val_accuracy = evaluate(model, test_loader, loss_fn)\n",
    "    \n",
    "    train_losses.extend(train_loss)\n",
    "    val_losses.append(val_loss)"
   ]
  },
  {
   "cell_type": "code",
   "execution_count": 114,
   "id": "9a0b3500",
   "metadata": {},
   "outputs": [
    {
     "data": {
      "image/png": "[encoded data removed]",
      "text/plain": [
       "<Figure size 1000x500 with 1 Axes>"
      ]
     },
     "metadata": {},
     "output_type": "display_data"
    }
   ],
   "source": [
    "plt.figure(figsize=(10, 5))\n",
    "plt.plot(range(1, epochs + 1), train_losses, label='Training Loss', linestyle='--', color='b')\n",
    "plt.plot(range(1, epochs + 1), val_losses, label='Validation Loss', linestyle='-', color='r')\n",
    "plt.xlabel('Epochs')\n",
    "plt.ylabel('Loss')\n",
    "plt.title('Training Loss and Validation Loss')\n",
    "plt.legend()\n",
    "plt.show()"
   ]
  },
  {
   "cell_type": "markdown",
   "id": "754b5cff",
   "metadata": {},
   "source": [
    "# Prediction"
   ]
  },
  {
   "cell_type": "code",
   "execution_count": 115,
   "id": "ec03f1d8",
   "metadata": {},
   "outputs": [
    {
     "name": "stdout",
     "output_type": "stream",
     "text": [
      "Predicted Label: 1.0\n"
     ]
    }
   ],
   "source": [
    "def predict(model, input_sequence):\n",
    "    model.eval()\n",
    "    with torch.no_grad():\n",
    "        output = model(input_sequence)\n",
    "        prediction = (torch.sigmoid(output) > 0.5).float()\n",
    "    return prediction\n",
    "\n",
    "sample_sequence = torch.tensor([[[0.1], [0.2], [0.3], [0.4], [0.5], [0.6], [0.7], [0.8], [0.9], [1.0]]])\n",
    "predicted_label = predict(model, sample_sequence)\n",
    "print(f'Predicted Label: {predicted_label.item()}')"
   ]
  },
  {
   "cell_type": "code",
   "execution_count": null,
   "id": "d5fd3fb8",
   "metadata": {},
   "outputs": [],
   "source": []
  },
  {
   "cell_type": "code",
   "execution_count": null,
   "id": "d55a6d9a",
   "metadata": {},
   "outputs": [],
   "source": []
  }
 ],
 "metadata": {
  "kernelspec": {
   "display_name": "Python 3 (ipykernel)",
   "language": "python",
   "name": "python3"
  },
  "language_info": {
   "codemirror_mode": {
    "name": "ipython",
    "version": 3
   },
   "file_extension": ".py",
   "mimetype": "text/x-python",
   "name": "python",
   "nbconvert_exporter": "python",
   "pygments_lexer": "ipython3",
   "version": "3.10.12"
  }
 },
 "nbformat": 4,
 "nbformat_minor": 5
}
