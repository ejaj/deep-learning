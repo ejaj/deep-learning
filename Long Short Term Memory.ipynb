{
 "cells": [
  {
   "cell_type": "code",
   "execution_count": 1,
   "id": "22251f4a",
   "metadata": {},
   "outputs": [
    {
     "name": "stderr",
     "output_type": "stream",
     "text": [
      "2024-04-10 10:47:14.168281: I tensorflow/tsl/cuda/cudart_stub.cc:28] Could not find cuda drivers on your machine, GPU will not be used.\n",
      "2024-04-10 10:47:14.301497: I tensorflow/tsl/cuda/cudart_stub.cc:28] Could not find cuda drivers on your machine, GPU will not be used.\n",
      "2024-04-10 10:47:14.302532: I tensorflow/core/platform/cpu_feature_guard.cc:182] This TensorFlow binary is optimized to use available CPU instructions in performance-critical operations.\n",
      "To enable the following instructions: AVX2 FMA, in other operations, rebuild TensorFlow with the appropriate compiler flags.\n",
      "2024-04-10 10:47:14.978856: W tensorflow/compiler/tf2tensorrt/utils/py_utils.cc:38] TF-TRT Warning: Could not find TensorRT\n"
     ]
    }
   ],
   "source": [
    "import numpy as np \n",
    "import tensorflow as tf \n",
    "  \n",
    "from keras.models import Sequential \n",
    "from keras.layers import Dense, Activation \n",
    "from keras.layers import LSTM \n",
    "  \n",
    "from keras.optimizers import RMSprop \n",
    "  \n",
    "from keras.callbacks import LambdaCallback \n",
    "from keras.callbacks import ModelCheckpoint \n",
    "from keras.callbacks import ReduceLROnPlateau \n",
    "import random \n",
    "import sys"
   ]
  },
  {
   "cell_type": "code",
   "execution_count": 2,
   "id": "f416054c",
   "metadata": {},
   "outputs": [],
   "source": [
    "# with open('data/article.txt', 'r') as file: \n",
    "#     text = file.read()     \n",
    "# print(text) "
   ]
  },
  {
   "cell_type": "code",
   "execution_count": 3,
   "id": "9a5b0873",
   "metadata": {},
   "outputs": [
    {
     "name": "stdout",
     "output_type": "stream",
     "text": [
      "25\n"
     ]
    }
   ],
   "source": [
    "text = \"Please remember that all group members must be present for the presentation. Should there be any issues with the schedule, please reach out to us.\"\n",
    "# Storing all the unique characters present in the text \n",
    "vocabulary = sorted(list(set(text)))\n",
    "print(len(vocabulary))\n",
    "# vocabulary"
   ]
  },
  {
   "cell_type": "code",
   "execution_count": 4,
   "id": "b180caa3",
   "metadata": {},
   "outputs": [],
   "source": [
    "# Creating dictionaries to map each character to an index \n",
    "char_to_indices = dict((c, i) for i, c in enumerate(vocabulary)) \n",
    "indices_to_char = dict((i, c) for i, c in enumerate(vocabulary)) "
   ]
  },
  {
   "cell_type": "code",
   "execution_count": 5,
   "id": "8bbdae5b",
   "metadata": {},
   "outputs": [
    {
     "name": "stdout",
     "output_type": "stream",
     "text": [
      "['Please remember that all group members must be present for the presentation. Should there be any iss', 'e remember that all group members must be present for the presentation. Should there be any issues w', 'ember that all group members must be present for the presentation. Should there be any issues with t', ' that all group members must be present for the presentation. Should there be any issues with the sc', ' all group members must be present for the presentation. Should there be any issues with the schedul', 'group members must be present for the presentation. Should there be any issues with the schedule, pl', ' members must be present for the presentation. Should there be any issues with the schedule, please ', 'ers must be present for the presentation. Should there be any issues with the schedule, please reach', 'ust be present for the presentation. Should there be any issues with the schedule, please reach out ', 'e present for the presentation. Should there be any issues with the schedule, please reach out to us']\n",
      "['u', 'i', 'h', 'h', 'e', 'e', 'r', ' ', 't', '.']\n"
     ]
    }
   ],
   "source": [
    "max_length = 100\n",
    "steps = 5\n",
    "sentences = [] \n",
    "next_chars = []\n",
    "for i in range(0, len(text) - max_length, steps): \n",
    "    sentences.append(text[i: i + max_length])\n",
    "    next_chars.append(text[i + max_length])\n",
    "print(sentences)\n",
    "print(next_chars)"
   ]
  },
  {
   "cell_type": "code",
   "execution_count": 6,
   "id": "0df88f9a",
   "metadata": {},
   "outputs": [],
   "source": [
    "X = np.zeros((len(sentences), max_length, len(vocabulary)), dtype=bool)\n",
    "y = np.zeros((len(sentences), len(vocabulary)), dtype = bool)"
   ]
  },
  {
   "cell_type": "code",
   "execution_count": 7,
   "id": "5679ec05",
   "metadata": {},
   "outputs": [],
   "source": [
    "for i, sentence in enumerate(sentences): \n",
    "    for t, char in enumerate(sentence): \n",
    "        X[i, t, char_to_indices[char]] = 1\n",
    "    y[i, char_to_indices[next_chars[i]]] = 1"
   ]
  },
  {
   "cell_type": "markdown",
   "id": "73a81e0c",
   "metadata": {},
   "source": [
    "## Building the LSTM ##"
   ]
  },
  {
   "cell_type": "code",
   "execution_count": 11,
   "id": "94b3ba1c",
   "metadata": {},
   "outputs": [],
   "source": [
    "model = Sequential() \n",
    "model.add(LSTM(128, input_shape =(max_length, len(vocabulary))))\n",
    "model.add(Dense(len(vocabulary)))\n",
    "model.add(Activation('softmax'))\n",
    "optimizer = RMSprop(learning_rate = 0.01) \n",
    "model.compile(loss ='categorical_crossentropy', optimizer = optimizer) "
   ]
  },
  {
   "cell_type": "code",
   "execution_count": 12,
   "id": "3157a709",
   "metadata": {},
   "outputs": [],
   "source": [
    "# sample an index from a probability array \n",
    "def sample_index(preds, temperature = 1.0): \n",
    "    preds = np.asarray(preds).astype('float64')\n",
    "    preds = np.log(preds) / temperature \n",
    "    exp_preds = np.exp(preds)\n",
    "    preds = exp_preds / np.sum(exp_preds)\n",
    "    probas = np.random.multinomial(1, preds, 1) \n",
    "    return np.argmax(probas)"
   ]
  },
  {
   "cell_type": "code",
   "execution_count": 13,
   "id": "57e2e525",
   "metadata": {},
   "outputs": [],
   "source": [
    "# generate text after each epoch\n",
    "def on_epoch_end(epoch, logs): \n",
    "    print() \n",
    "    print('----- Generating text after Epoch: % d' % epoch) \n",
    "  \n",
    "    start_index = random.randint(0, len(text) - max_length - 1) \n",
    "    for diversity in [0.2, 0.5, 1.0, 1.2]: \n",
    "        print('----- diversity:', diversity) \n",
    "  \n",
    "        generated = '' \n",
    "        sentence = text[start_index: start_index + max_length] \n",
    "        generated += sentence \n",
    "        print('----- Generating with seed: \"' + sentence + '\"') \n",
    "        sys.stdout.write(generated) \n",
    "  \n",
    "        for i in range(400): \n",
    "            x_pred = np.zeros((1, max_length, len(vocabulary))) \n",
    "            for t, char in enumerate(sentence): \n",
    "                x_pred[0, t, char_to_indices[char]] = 1.\n",
    "  \n",
    "            preds = model.predict(x_pred, verbose = 0)[0] \n",
    "            next_index = sample_index(preds, diversity) \n",
    "            next_char = indices_to_char[next_index] \n",
    "  \n",
    "            generated += next_char \n",
    "            sentence = sentence[1:] + next_char \n",
    "  \n",
    "            sys.stdout.write(next_char) \n",
    "            sys.stdout.flush() \n",
    "        print() \n",
    "print_callback = LambdaCallback(on_epoch_end = on_epoch_end) "
   ]
  },
  {
   "cell_type": "code",
   "execution_count": 14,
   "id": "3086057f",
   "metadata": {},
   "outputs": [],
   "source": [
    "filepath = \"weights.hdf5\"\n",
    "checkpoint = ModelCheckpoint(filepath, monitor ='loss', \n",
    "                             verbose = 1, save_best_only = True, \n",
    "                             mode ='min') "
   ]
  },
  {
   "cell_type": "code",
   "execution_count": 15,
   "id": "dfe41a8f",
   "metadata": {},
   "outputs": [],
   "source": [
    "# Defining a helper function to reduce the learning rate each time \n",
    "# the learning plateaus \n",
    "reduce_alpha = ReduceLROnPlateau(monitor ='loss', factor = 0.2, \n",
    "                              patience = 1, min_lr = 0.001) \n",
    "callbacks = [print_callback, checkpoint, reduce_alpha] "
   ]
  },
  {
   "cell_type": "code",
   "execution_count": 17,
   "id": "5afc1e52",
   "metadata": {},
   "outputs": [
    {
     "name": "stdout",
     "output_type": "stream",
     "text": [
      "Epoch 1/10\n",
      "1/1 [==============================] - ETA: 0s - loss: 1.1197\n",
      "----- Generating text after Epoch:  0\n",
      "----- diversity: 0.2\n",
      "----- Generating with seed: \"p members must be present for the presentation. Should there be any issues with the schedule, please\"\n",
      "p members must be present for the presentation. Should there be any issues with the schedule, pleaseeer  rrrrr r tttutt.tththhhhhhhhhhheeeeeeeeeeeeerr r   rrruttttttt..h.hhhhhhhhhheeeeeeeeeee  r rrrrrr ru.ttt.ttttthhhhhhhhhhheeeeeeeeeeerre  rrr rrttttttttt.thhhhhhhhhhhhheeeeeeeeererr rrrrr  tutt.uttt.hhhhhhhhhhhhheeeeeeeeee rrr  rrrrrr ttttt.t..h.hhhhhhhhheeheeeeeeeeerr rrrrr rrruutttttt.tth.hhhhhhhhhheeeeeeeeeeerrrr rr  rt rttttttth.hhhhhhhhhhhheeeeeeeee eer  rrrrr r rttrttt..tthhhhhhhhhhhheeee\n",
      "----- diversity: 0.5\n",
      "----- Generating with seed: \"p members must be present for the presentation. Should there be any issues with the schedule, please\"\n",
      "p members must be present for the presentation. Should there be any issues with the schedule, pleasereer rr  r rrt.ru.ttu.uttth..thhhhhhheeeeeehe rr err rer t e ttrtttt.hhh.ihhhhehheeheheeeeeeere errrr rer ruurtttttthh..ehhh.hhheheeehe eerre  rrr rrrutthtuiit...u.ihhhhhhhehehhheeeeeeere e tr r rrurtu.ttlutttt.h.hhhhhhheh heeeeeeeer rr rrtture ..t.uit.tt.ihhhhihhhhhheheeeeeeeee rr   r  rru.ttttttu..hh.hhhihhhhehehh ee eere re r  r .urt.ttit.t.hhhhehehhhheeeeeeeeeer e rrr u r. t tttt.itueu.hhhhhhh\n",
      "----- diversity: 1.0\n",
      "----- Generating with seed: \"p members must be present for the presentation. Should there be any issues with the schedule, please\"\n",
      "p members must be present for the presentation. Should there be any issues with the schedule, pleaseeee r uetr ur  r rttert.turuu..h.hhehhieireueuheeeerhtr t hs rt bututi....tthhi.hthhtheheeehrre rheee rtS rith .thaiuh it.he.ihhh eeu.eeheeeheeerr   run iutrtuiu.tuhteihhhhehhhh e eearee eh  uirrr u ttuitt.teu,.hht.hhtehh hhh eeueeiretr ruraetriutuSitu.iiii.thuhhhh.h.ee ehuhierere eeue u..t r.rruiuit.iiuuuhhhieuh.eehhhhteheeee e tee re etruiuhthahth. .htihehhehe erue.eeeir.lrieurr.  r u.rttr ih ui\n",
      "----- diversity: 1.2\n",
      "----- Generating with seed: \"p members must be present for the presentation. Should there be any issues with the schedule, please\"\n",
      "p members must be present for the presentation. Should there be any issues with the schedule, pleasehrre   rrurirruuefhieut ttiriiut hthhihhfmhheeehtee eerrr   rteerr rug.uetS.t.hhhohhrehieehh eh eh.erree  it riirut rhiiduytt..hhhrhhheehhhrieS,  u. rrhr rrrrur i. ttpth.ipuhhhh uehhhieeb.. eherie e eSPutrgtsuer.rui...peyhh hih.ehc.e eee     rhrurr.rii.uS.ieueru. ehhheehehhehh u  r eru r u u.t hruute.htdhi.ahhwn.eheseeeerrr   r te rhuuitiut .u.o.rtnhheerieeh ethee rere ef  r .tt.ue e....hh.hu..ite\n",
      "\n",
      "Epoch 1: loss improved from 1.20320 to 1.11965, saving model to weights.hdf5\n",
      "1/1 [==============================] - 48s 48s/step - loss: 1.1197 - lr: 0.0010\n",
      "Epoch 2/10\n",
      "1/1 [==============================] - ETA: 0s - loss: 1.4334\n",
      "----- Generating text after Epoch:  1\n",
      "----- diversity: 0.2\n",
      "----- Generating with seed: \"roup members must be present for the presentation. Should there be any issues with the schedule, ple\"\n",
      "roup members must be present for the presentation. Should there be any issues with the schedule, plerrt tttttt.ut......tt.tt.ttttt....t.tttt....et. ttttttttt.t.......t.tht.ttttttt....tttttttt.tt....tt..tt.t..ttttt..t.t...t..ttt.t.ttttt.ttt.....t..ht. tttt.ttt..th.t.tt..uttt...t..ttt.tttt...ttt.tt..t..ttt.i.ittt.tt.t.......htr tttttttt....t...tttt.t....tt...ttt.tt.ttt.....tttt...t.tut.tt.t.tttttttt.t..t.t .ttte...tttttttttt.t.t.h...httttut.tt....tttttt..t..ttt .ut.tt......t.tt.t.tt...tt.ttt.tt...\n",
      "----- diversity: 0.5\n",
      "----- Generating with seed: \"roup members must be present for the presentation. Should there be any issues with the schedule, ple\"\n",
      "roup members must be present for the presentation. Should there be any issues with the schedule, pleuirtrterrr.r t.t rt.tt.ttti.t.tit..i....i..t..    u.ttht.hhrrtt et.t.tt..ter.rti.ttittttut.itur. trttt..i.tie.t...tth.uer. uu  .utttit.t.r.uh.t. .uhrttht tr.t.ttttt.e..... rut. .rreeuturtt.tuuututt..uetu.t th.eitt.ru...uertee.rtrtutrt. tu.tt...e....e u .ttttue.uth..ettru tt.utr..e. t..e.. t eeh. eut.r..ut.ttr. ....trtt.t uut.tiuutetut..teut.tt.tttt. u t.itet t.tttet. t.uu.t. u..ree  ut tu.t..hitt.\n",
      "----- diversity: 1.0\n",
      "----- Generating with seed: \"roup members must be present for the presentation. Should there be any issues with the schedule, ple\"\n",
      "roup members must be present for the presentation. Should there be any issues with the schedule, ple.utr.u.stutt m.utre.ttt ttr uhtt.u..ietrei.ttum..i.Shhihtnrt.uitthuuhiiuhiitfit hth.iiith...tote ubrr rpri. u.eecue.rrutrutwtu.ri.euu trte.uttti..r efyithtuut.ern.uui erhed u ete.erti ruih.ttr.r.tP.yu.e.iti.th.rttrp.rtetirttduty.t...stu.ertu.r.t.euittrgit.ht.rt.r.iitrur.tirii.Su..eie eututiu.eu ttu. .twthte..h.i.ttrthhlirrituut.ee.eut tt t.uttetctr..trr .uth.uSn..t ihriuuit. .u rr..it  uu...trh..u\n",
      "----- diversity: 1.2\n",
      "----- Generating with seed: \"roup members must be present for the presentation. Should there be any issues with the schedule, ple\"\n",
      "roup members must be present for the presentation. Should there be any issues with the schedule, pleetee   ri.r otPt.t.udtr.t.tg t..hhetpft uu.utugtuttrugh hhuh.rtuu. ..t..rthtr.  t utS.PtSh. .putthi.errs.i itehiu t.tut.chhcr .uhrl.or .rtrnth.emr..pnutr tie rrmdu.u eht..tSrtdir.r.nePur.e.St hptrii tiie.r.ehi.titihuromthiii.. i.siuutniuu..t ut.e euethuetre ruttegirtiut rettrut..u  huueh.rth iirtuttetntStr...rhuatd.Surtttturrm tePu.tPu.gtru  et ruuuS ettr.ereu.uhiuuteiht  nut.hrt.f r.titetup..mfty\n",
      "\n",
      "Epoch 2: loss did not improve from 1.11965\n",
      "1/1 [==============================] - 49s 49s/step - loss: 1.4334 - lr: 0.0010\n",
      "Epoch 3/10\n",
      "1/1 [==============================] - ETA: 0s - loss: 1.7188\n",
      "----- Generating text after Epoch:  2\n",
      "----- diversity: 0.2\n",
      "----- Generating with seed: \"mber that all group members must be present for the presentation. Should there be any issues with th\"\n",
      "mber that all group members must be present for the presentation. Should there be any issues with thhhhhhhheeeeeeererrrr r rt tttttti..hhhhhhhheeeeeeeerrr r r tuuttttt.....hhhhhheeeeererrrrr ruttttt.tt..ihhhihhhhhhheeeeeeeer   rrtttttttt.hhhhhhhhhheeeeerre rrr r uttt.....t.hh..hhheeeeree r rt tttuu.tt...hhhhhheheee ee  re rtttrtttttt..hhhhhhheeeeeeeer rrr trr.tttutthi.hhhhhhheeeeeeeerrrrrr  rutttttt..th..hhhhhhheeeeeerr rr rur r tut..ttt..hhhhhhhheeeeeee rr rrr ttttttt..tthhhhhhhheeeeeeeerr r r \n",
      "----- diversity: 0.5\n",
      "----- Generating with seed: \"mber that all group members must be present for the presentation. Should there be any issues with th\"\n",
      "mber that all group members must be present for the presentation. Should there be any issues with theheh.hhheeeeheer  riu.i uttu......thueheehh.e reee .h.  irttthttuthehhithhehhhrreerre  r ruuettt..th.iihhiiuthhhhheeeeerreerrrr t. t.t uutu..e.eheuhhhhreh .terr ruttuh..itiuuh.hhhhihehieheeeireu reutit. theth tue.etiieeh.ehhee tutetteeteihihhhh.h h.etheereehre r u tit.tuhtthh.ehhi.h hieheeerurrrru.t tturtt..ri.hhh.h eeerhrh   . .ui.uthtt.hh..hhh.reeu.er. rrue .eht et.tthththhh.he.eee  eer  rteiutt\n",
      "----- diversity: 1.0\n",
      "----- Generating with seed: \"mber that all group members must be present for the presentation. Should there be any issues with th\"\n",
      "mber that all group members must be present for the presentation. Should there be any issues with thi.hheiheheeerue  t r rrw..uituetiutu.dehttt.eeieu h.e.re  rhr..ai.rh.r nt. .uhtbu hS.ueh.e he irei.eetrti.hiethiet hreuhrh  .tuetiiiyttuh.uh.i ethtr.ee eriehhrue. ferarr rrueee teie h uh uru.uhthuhi.rh.u.hirehiehiueutiri Stt.hih,hier.ieh.r yheuhehi h.,uiuea.ehhrurt.ui u.i uutr.eiehed.errehl .tohlteprihet tertp tueuutru.t.t.h.teueh h.h.e.. r. u ttthtuti.hiirte.uhmthyh.h rhuuierlerotiheh iethhuh.hue\n",
      "----- diversity: 1.2\n",
      "----- Generating with seed: \"mber that all group members must be present for the presentation. Should there be any issues with th\"\n"
     ]
    },
    {
     "name": "stdout",
     "output_type": "stream",
     "text": [
      "mber that all group members must be present for the presentation. Should there be any issues with the.f.thrrieeie rrieyru iPti.uu.uueh.iltu.uhihuwrh .ySutueeesii.fu het ,umre.trrue. iy.ihu ueut.tr. riaiutiu.i.ti iiyrfheheh heeeu.uewbuu.re h.,yrtrueiuiut.e.i.tunh u .hiueih.tr.hew.iee  e.et hh.irtiueShih.tr.utiuuuuhiihS er.t ei. ue.ueyeg iuttei..httrhharriuhphbeuee g ruPhui l. uhht.mmhtef .hrre.eiti ..ehe  ihgth.,tiiri hht etthihhieyu rehrh. rthtfrhr.h.r h...iuyeih heuhuurhuuehh.hiueh..h t.rheuuh.\n",
      "\n",
      "Epoch 3: loss did not improve from 1.11965\n",
      "1/1 [==============================] - 47s 47s/step - loss: 1.7188 - lr: 0.0010\n",
      "Epoch 4/10\n",
      "1/1 [==============================] - ETA: 0s - loss: 1.2215\n",
      "----- Generating text after Epoch:  3\n",
      "----- diversity: 0.2\n",
      "----- Generating with seed: \"t be present for the presentation. Should there be any issues with the schedule, please reach out to\"\n",
      "t be present for the presentation. Should there be any issues with the schedule, please reach out tott...h.hhhhhheheeeeeeere  r rr ttuttt.h.hthhhhhhhheeeeeeee rrrerr r ru tttttt.hhhhhhhhhheeeeeeeeeeerrr r rrrrttttt.thhhhhhhhhhhheeeeeeeeeeerr rr rr rtttutthhhhhhhhhehheeeeeeeee rrrr r rutttttu..ihhhhhhhhhhhheeeeeeeeerr  rrr r tttti....hhhhhhhhhheeeeeeeree rr  rrtttttth.hhihhhhhhhhheeeeeeeee rr r rrrrtrttuitthhhhhhhhhhhheeeeeeee rrrrrr  rtrttttthththhhhhhhhheeeeeeeee rrrr rr  trttuttihhihhhhhhhhhhe\n",
      "----- diversity: 0.5\n",
      "----- Generating with seed: \"t be present for the presentation. Should there be any issues with the schedule, please reach out to\"\n",
      "t be present for the presentation. Should there be any issues with the schedule, please reach out toiuuuhhthieehhh eheeheher r r rrrururt.u u......ehhheeeeereeer ieeruurruttttttihhhhhhhhhhheeeeeeheeeee rr ri  rtt ert.i.hhihhhhhheehhheeeereerrreu tr.rr.etiut..i.hi.hhhhh h heeeeeeeerer  urer r.t.truru u.uhhhhhhehiheheeeeeee  rree  er tt.ihthirhthhhhhhhheeheeeehr eeeeu er ete.rtti.h thihhhhhhhhheheeeeeeeerr r r eeturuttrutu .i.hh.e.hhee.eeeeheeeu riuruirtru.ttit.hhhhhhhhhhehee  eeerrre  rtrut.uut.t\n",
      "----- diversity: 1.0\n",
      "----- Generating with seed: \"t be present for the presentation. Should there be any issues with the schedule, please reach out to\"\n",
      "t be present for the presentation. Should there be any issues with the schedule, please reach out totihttrrihaihit oeueue hhir ehr.  rgduitid.o..auihhei.eeeiee iut eeetr. therue r  uh ih.iehuhttheeeihetueetre ruutriuth.ttr tt.hh.h.t.hhehheeeuem etrr eetuerhtfi tri.hiPhhhhhhhhheuehrhe.eei.rrri tu iutttihuhihhii.h.hhheef trn ue .iueuitrr. .riu..u.eteh.uhhrhheeeheirherierri rtuittuuuuhhuhthuhereeheu.r ee e.rerrr.uuuhtuth...niuirt.ehhhiwhheihh  e eerue   etrnir cuitiiei.hehetuihhteihehee rtr    i.e \n",
      "----- diversity: 1.2\n",
      "----- Generating with seed: \"t be present for the presentation. Should there be any issues with the schedule, please reach out to\"\n",
      "t be present for the presentation. Should there be any issues with the schedule, please reach out toStu. uuinr.ohfShpi.eenieieihh .Storhe.irt .hriiwe.thhhh euheehr . r euestrr thtiw.ohheh.iheheueeteeeetche ruuuPreruth .euh.eu.ehih.tihee.hehtfe.ierrrrrrrtr  hri.rtr uhhhheuh hhheeeeeeitrriht h r.uht.iirhhrr iihehhhehree i u rret mfu..ueeS fitiui.be.eiee eeeueeeur rewriemei it.tii.eiheh.hhhrhherr  tuhh iie hiatr uftuhrtdh phh Peyehihe   er hhrih   rhuuh theer.eheheiiuhueeuteh errte et.euS  i hir.uu\n",
      "\n",
      "Epoch 4: loss did not improve from 1.11965\n",
      "1/1 [==============================] - 46s 46s/step - loss: 1.2215 - lr: 0.0010\n",
      "Epoch 5/10\n",
      "1/1 [==============================] - ETA: 0s - loss: 1.0145\n",
      "----- Generating text after Epoch:  4\n",
      "----- diversity: 0.2\n",
      "----- Generating with seed: \" must be present for the presentation. Should there be any issues with the schedule, please reach ou\"\n",
      " must be present for the presentation. Should there be any issues with the schedule, please reach outtttt.h.hihhhhhhhheeeeeeeeeerr  rr  t.ttttt..hhhhhhhhhhheeeeeeeeerr r r rrutu.uti...hhhhhihhhhheheeeeeereer  rr rr ttttttthhhhhhhhhhhheeeeeeeeerrrrr r ruutttttthhhhhhhhhhhhheeeeee rerrr r urru tttttthhhhhhhhhhhhheeeeeeee   r rtr tttttthhhhhhhhhhhhheeeeeeeeee rrrrr rurrttttu.tthhhhhhhhhhhheeeeeeeee r   r t tttt.thhhhhhhhhhhheheeeeeeeerrr  r rt ttttu.h.hhhhhhhhhheeeeeeee rrrr   rrrtutt....hhhhhhhhhh\n",
      "----- diversity: 0.5\n",
      "----- Generating with seed: \" must be present for the presentation. Should there be any issues with the schedule, please reach ou\"\n",
      " must be present for the presentation. Should there be any issues with the schedule, please reach ou.ttuht.ththhhhhhhehheheeeeeerr  tuuuituuti.i.hihhhhhhhhheeeheeee tr rr t u.ei r.ttiuiihhh.hhhhhhieeheeerer  eree rrr rt.t...tri.thhhhhhhhheeeeeeereer  rr rrr uru tttui..tii.ihhehhhhhheheereee ue rr tututt..t.uhihhhhhhheheeeee ehere  r urtuit.t...ht.hhhhhhheehheeeereete rr rr u.ttuethtthhhhhhhhhehheeeeeee  r rrrt.ttt. ithhhhhhehhhrehheheeeee r  r  r tthtiu..hhhhhhhh.eheheeerrrrrrr rttttttt...hhhhhh\n",
      "----- diversity: 1.0\n",
      "----- Generating with seed: \" must be present for the presentation. Should there be any issues with the schedule, please reach ou\"\n",
      " must be present for the presentation. Should there be any issues with the schedule, please reach ourr. ttt..th..i eh,hhiuhe reh rrtieierieittty .hhuhhhethhahheeee ue r.  uruith uhte.ttoeheeh.tehreh h eee e r Ptt.i ituheth .ih hehhieeehhi .ertereer ertrP.tt.r..i.hhahteuh.irh ehhhe , e  rr erutt t.gh.huthihhhehhoheht.ieehrheeuhe eruee urruil um.t..ithehhehe heehiu eiee udthr uietuirtr ier.iu.ehhe.heehereeer r riertge.ttteh i.hhi.ghhheheeeerureerrr  r te.euu..ittth.uru iehhehhhtteeehehe  e  ue u i\n",
      "----- diversity: 1.2\n",
      "----- Generating with seed: \" must be present for the presentation. Should there be any issues with the schedule, please reach ou\"\n",
      " must be present for the presentation. Should there be any issues with the schedule, please reach ou ttt.husihuhuh hhhhuh hhyh,huu eeeie ruritertu t.th.iu.iuh.h.ehhuueheeererrure ef.r. tr tuih.tth.eehhPhheheahehuet ierer rS rtrthiitht.h.ieiehehuehehh eere  uri .uetrtebiutithiyhrhcuiphh.hhhhe.eeehsereePr    uew.d.S ubhuh.npui h ei ruutuhhhh. pe tereur .rrtr..u.rruh.u,Pihhhhhhhhemeeueee ieuire.eh e t i.r.uattie.ea..uei heeeeee,hhe t  r u.ete,ieihhhtihheeee e, eetrreemrtt ut.thltdeb.ethei .raft.rui\n",
      "\n",
      "Epoch 5: loss improved from 1.11965 to 1.01453, saving model to weights.hdf5\n",
      "1/1 [==============================] - 47s 47s/step - loss: 1.0145 - lr: 0.0010\n",
      "Epoch 6/10\n",
      "1/1 [==============================] - ETA: 0s - loss: 0.9658\n",
      "----- Generating text after Epoch:  5\n",
      "----- diversity: 0.2\n",
      "----- Generating with seed: \"t all group members must be present for the presentation. Should there be any issues with the schedu\"\n",
      "t all group members must be present for the presentation. Should there be any issues with the schedueeeeeeeere rrr  r tttttt.t.hhhhhhhhhhheeeeeeeerrer  r  ttttuttt.thhhhhhhhhhheeeeeeeeerr r  r rtttt.tu...h.hhhhhhheeeeee eerr rrrr tttt.ttt..hhhhhhhhhheeeeeeeeeerrr rrrr tttttt.t.hhhhhhhhhhhheeeeeeeee rrr r r t.tut.tt.hhhhhhhhhheeeheeeeeerr  rrr tttuttt.hh.hhhhhhhhhheeeeeeeeer r rrrrrrttttt...ihhhhhhhhhhheeeeeeeeee   rrr rrutttt.t.....hhhhhhhheeeeeeeeer r r  rtttttth...hhhhhhhhhheeeeeeeeerrr  r ttt\n",
      "----- diversity: 0.5\n",
      "----- Generating with seed: \"t all group members must be present for the presentation. Should there be any issues with the schedu\"\n",
      "t all group members must be present for the presentation. Should there be any issues with the schedueheeeeeeerr rrrrrrrruttueu. .t.tthhhhhhhhhheeheeeeeeerrr rr t .ut........hhhhhhhhheheeeeeeerr rr   .trt.ti..hhhhhhh.hheheeeeeeee    rr r tutt..ii..ihhhhhhhhheeeeeeeeererer r  rtr..u.t.tu.iih.hhhhhhhhhehheee eereer rrrt t th.tth.i.ihhhhhhheheeheeree  u.e  tiurr .tttthh.hhhhhhehhehheeeere rrrrtrttttttth.hhhhhhhheheeeheee rrr r ui  ru...h...th.hhhhheeheheeee e r  t rr t.u...thhhheheehheeeeeerr rre e \n",
      "----- diversity: 1.0\n",
      "----- Generating with seed: \"t all group members must be present for the presentation. Should there be any issues with the schedu\"\n"
     ]
    },
    {
     "name": "stdout",
     "output_type": "stream",
     "text": [
      "t all group members must be present for the presentation. Should there be any issues with the schedueeheeeeerr r euue i otiuti.hhhhuiehhutheeeee teeeree uuuSmttut .teh hiuiehhihheehheeehehee rer rr uulu.rtt.uiih..iteh hhhh hheheeeer. g  eeuuuthrigritu.hhheh.ihhehhheeere et thtr ttiehtttuthiii..hhheheeeh e htheer  ttwr rertihteih.ttihhhheehhie hheeee    uteuh irtS.n  ..ttuihrehhhheiuh.eenehi rt.atr y rt...u.hi .hh.ehhnihehhhrthhree ie tr rcrhtuhniu...c.hhrtuhheherh e e ee rre rr.tttrh.i..yt.hhthh\n",
      "----- diversity: 1.2\n",
      "----- Generating with seed: \"t all group members must be present for the presentation. Should there be any issues with the schedu\"\n",
      "t all group members must be present for the presentation. Should there be any issues with the schedueehhePe.e  riueieueuuit utih.htuhihhihhe.orreeerheoru frtwttritrtti,iithhhehhhhteeiheeehee e  uteer r rrr.hh..iieunhuhhiii hhhhrhhehegeei m t itte.tyirtiethwhhiihhhh uu.u.eh ee.e.r uerSrtr cbiuhuii..dhh hue,eehht.ehuhee re rr w.etr  geittahti.uh.ee.hhu.h erhrer trrtr etruhtte.pthhuhehhehe.ethhee ee   oe trr .teiitt hhhhehhh. hh euh ethehuet.br  rrt.ttlt.e.u..ieihe ihihhuthh bieiri eheri mr uha ith\n",
      "\n",
      "Epoch 6: loss improved from 1.01453 to 0.96581, saving model to weights.hdf5\n",
      "1/1 [==============================] - 48s 48s/step - loss: 0.9658 - lr: 0.0010\n",
      "Epoch 7/10\n",
      "1/1 [==============================] - ETA: 0s - loss: 0.9174\n",
      "----- Generating text after Epoch:  6\n",
      "----- diversity: 0.2\n",
      "----- Generating with seed: \"hat all group members must be present for the presentation. Should there be any issues with the sche\"\n",
      "hat all group members must be present for the presentation. Should there be any issues with the scheheheeeeeeee rr rrr r ttttt.....hhhhhhhhheeeeeeeeeer r rrr tttttt.u..hhhhhhhhhhheeeeeee reee r rrr ttttt....hhhhhhhheheeeeeeeerer rr  ttt.ttt..thhhhhhhhhhheeeeeeee rr r r ttttttt....hhhhhhhhhheeeeeeeerrr r r  rttttt.....hhhhhhhehheeeeeeeee   rrr  ttrttttt.hhhhhhhhhhhheeeeeeeerr r rrr  tttttt...hhhhhhhhhheeeeeeeee  rrr r  tttttt...hhhhhhhhhheeeeeeeeer r r rrttttttttthhhhhhhhhhhheeeeeeeeer r rrr  ttt\n",
      "----- diversity: 0.5\n",
      "----- Generating with seed: \"hat all group members must be present for the presentation. Should there be any issues with the sche\"\n",
      "hat all group members must be present for the presentation. Should there be any issues with the schehhheeeeeeeererrr r   tttt.hut...hh..hhhhhehheeeeeer rr r ttrttt.ttt.hh.hhhhheheh heeeeru rrrur teuruuiu..tuhh.thhhhihhhhheeeeeee re rru urrtttur..u......hhhhhhheeheeehe e r  ru. .u.t.u..ttu.hhhihhhhhhhheeeeee r rre re ur tuttth.tthhhhhhhhheeheeeeer eu rr  ttrutttt.th.hhihhhhhehheheeeeeeeer  r er   tttttuhthhhhhhhhhhhhheheheee r rrerrr    ttrttt..it.hhhhhhhheheeeeeerrre r. rut tt.htth.hhih hh.hhhhh\n",
      "----- diversity: 1.0\n",
      "----- Generating with seed: \"hat all group members must be present for the presentation. Should there be any issues with the sche\"\n",
      "hat all group members must be present for the presentation. Should there be any issues with the scheheeeeeeeeerreu. er   hri..r..S uih..dt hhehhhtheheeirreeitrul r ru ttt.thui.ih.hiihhihbeei.e.eeoaerrtrh trr .t ue.. at.iiihhihiiehrhhhhhehehe eere rrerSut.hru r.uhtP..ehhi.hhhfhheeheh r ee  etr e uu uet.i.i t.ihihhhrhhehheheeeere  rterurr  ur tttuit.iih.hihihhhhe,hereeeeeereereeru trrS  utdi..h.iSihhthinhehhheehieeer erie e  .rri rtr.il...tuueoohhhhhh.ehtee eher  rhu rur t.ttu.itih.iihhhhehhhheeee\n",
      "----- diversity: 1.2\n",
      "----- Generating with seed: \"hat all group members must be present for the presentation. Should there be any issues with the sche\"\n",
      "hat all group members must be present for the presentation. Should there be any issues with the scheeeie  gee cereP.etr..cPS.r.i tgrutttthSShuehreieieeeeeueu uu f r otnte.. Shuttiiyeihgiheihehe.eeerrererertrur.  finemht..utthfihehiehhehheueueueeur t tru.ttt.uhii.ehhe..rhhehheee.heee rer hriut,lh.uStthhi.yhhhauhiehhrrheerherr.er t ee.uSiyttruir.irhuiihehhheuheh eegenrer rre eh  rtu tt.h.trtgherettiheihh.b reeer eerruurf tut.iuuiehyt.hthhrheesehe e  ehhttr  er  t.r.tttr..euhhih.hehhhehheeroee trw.\n",
      "\n",
      "Epoch 7: loss improved from 0.96581 to 0.91743, saving model to weights.hdf5\n",
      "1/1 [==============================] - 47s 47s/step - loss: 0.9174 - lr: 0.0010\n",
      "Epoch 8/10\n",
      "1/1 [==============================] - ETA: 0s - loss: 0.8661\n",
      "----- Generating text after Epoch:  7\n",
      "----- diversity: 0.2\n",
      "----- Generating with seed: \" that all group members must be present for the presentation. Should there be any issues with the sc\"\n",
      " that all group members must be present for the presentation. Should there be any issues with the schhheeeeeeeeererr rrr r  ttttt.t..h.hhhhhhhhheeeeeee r r r  t ttt.t.t...hhhhhhhhheeeeeeeerr r r  tttttt..t.hhhhhhhhhhheeeeeee r   rr tttttttt...hhhhhhhhhheeeeeeeeer rrr r tttttt.....hhhhhhhhhheeeeeeee  rr   tttttt.t...hhhhhhhhhheeeeeee r rr   tttttt....hhhhhhhhhhheeeeeeeeer rrr   uttttt.....hhhhhhhhhheeeeeeee rrrr r r tttttt...ihhhhhhhhheeheeeeeeeerr   rr .ttttt.th.hhhhhhhhhheeheeeeerrr r rrrttttt.\n",
      "----- diversity: 0.5\n",
      "----- Generating with seed: \" that all group members must be present for the presentation. Should there be any issues with the sc\"\n",
      " that all group members must be present for the presentation. Should there be any issues with the schhheheeheheeerr  r   tt.rirtt.ttth.h.hhhhhhheeeeeeee errrr  r tuut.t....t.hh.hhhhhheeeeeeeer r rer.r tt rtu.u...thhhhhehhhheeeeheee r eir r ututtti.h.iihhhhhhhehhheeeeeeer r rr r r ..tt.tut.tthhhhhhehhheeeeererre rrru .tt ttth.hhhhhehhhhheeeeeeeerre rre  ttttt.t.h.t.hhhhhheheeeeeeere  ri tt ttutt....i.uhhhhhhhhheeeeeeehere erruu tt.rtt......h.hhihhe heeeeeerrerrr   t.tt.t.t.thhhhhhhhheheeeeeeeee  \n",
      "----- diversity: 1.0\n",
      "----- Generating with seed: \" that all group members must be present for the presentation. Should there be any issues with the sc\"\n",
      " that all group members must be present for the presentation. Should there be any issues with the sceheheeeeh  rerr turt.u t..t.. uttthi.hhhehehhhehe rrereeaur  dtr..u.tht.ttt.h.thhuhh hheeeeeree rr rerer ..h ttt.ttSah.h.ehhhiheheee ehrrerr   uti.tftuu..thu.hehehuhheh re ee ri ut.tt.y.ai .twuih..hui.ihehhhheiieeeee rr  irrw tru.tu.uuh.ehhieehhieere r.  rrtrrttttuehhiihei.hehhhh eeeerare e reereir  Se.itut.thhhtehhhhrhhheere  rr rrre.r rgo .treeStuhti erhh .ihc he.heeer ei   P rtieuhtetthiithhhh.\n",
      "----- diversity: 1.2\n",
      "----- Generating with seed: \" that all group members must be present for the presentation. Should there be any issues with the sc\"\n",
      " that all group members must be present for the presentation. Should there be any issues with the schhhmeheh rhrrtier. st.ritt.te..chrP.hiihuhehhhee.er a ree  ieteeitl..dtnuhtg.tthhhiehweee ee eueePii r ttti.ur.u.t.ui..ie.heeirerereu rh etit,rt t.euiut..thbh..hhhShh r e e u.rer sr hetr  ibt.iehhbhhhuhhhhetbterereerrbe rerrrr.tuut.it  uhouh.uPrhehaheehuweiee we ur rt ...tl.ttih..hhih hhhehietereree  eScwrh.e tenrumi.yuwiia.hieihehihhhehhuhheeteee r.oyuir ...t..ta hhhh. hethhhhithheeee ireutruu tr\n",
      "\n",
      "Epoch 8: loss improved from 0.91743 to 0.86606, saving model to weights.hdf5\n",
      "1/1 [==============================] - 48s 48s/step - loss: 0.8661 - lr: 0.0010\n",
      "Epoch 9/10\n",
      "1/1 [==============================] - ETA: 0s - loss: 0.8166\n",
      "----- Generating text after Epoch:  8\n",
      "----- diversity: 0.2\n",
      "----- Generating with seed: \"oup members must be present for the presentation. Should there be any issues with the schedule, plea\"\n",
      "oup members must be present for the presentation. Should there be any issues with the schedule, pleaeeeerrr   r ttttt........hhhhhhhheeeeeeeerr   r tttttt..t....hhhhhhhhheeeeeeerr    rrtttttttt.t...hhhhhhheheeeeeeeerr  r rtttttttt.....hhhhhhhhhheeeeeeeerrrrrr   ttttttt....hhhhhhhheheeeeeeerr rr  rrtttt.t.......hhhhhhhheeeeeeerrr rrr  ttttttt.....hhhhhhhheeeeeee rrr r rrrttuttt........hhhhhhhhheeeeeeerrrr   ttttttt.....h.hhhhheheeeeeeerrr rr  ttttt.t.......hhhhhhhhheeeeeerr ru rt tttttt......hhhh\n",
      "----- diversity: 0.5\n",
      "----- Generating with seed: \"oup members must be present for the presentation. Should there be any issues with the schedule, plea\"\n"
     ]
    },
    {
     "name": "stdout",
     "output_type": "stream",
     "text": [
      "oup members must be present for the presentation. Should there be any issues with the schedule, pleaere e rrr ir ttt..tt..t.huhhhhhheeeeeeeeerrrr rr t r  t....t...thihhhhhhhheeeeeee eer r   ttu..tt..r....u..uh.e.ehhieher .erre ru ttue.ttt..i...hhhhhhhhheeeeeeerr  rrrut ttt...tt..t..h.ehhhhheeeeeer r uut .rttttttu........h.h.hehheeere e rrtrrrrttt..t...t..h.thhhh.heeheeeee r rr  rrtttttttt...h.ihhhhhhhiheeeeerererr  r ttt.i..it.ih..iiuhhhhhhhheeeeeee  ere  r  tr.ttrtuth...t.h.hhhieehhh eeeee  r r\n",
      "----- diversity: 1.0\n",
      "----- Generating with seed: \"oup members must be present for the presentation. Should there be any issues with the schedule, plea\"\n",
      "oup members must be present for the presentation. Should there be any issues with the schedule, pleahe  r r u . ue.hiP...hi ,.t..hhhh.hhhehreuer re e  rt ttutetu ..i.tiih.eh.hhhhheheeererur rue ttu.eudt.c..g.ttht.ihtthihhohiirhrteeeeree  refrret.tt. . .tuutt.h...l hhhteieehee erh r St  tt.rt.ntut.ut.thhtuh..uiieheeeee rr r tetrr uet r h.ifeiih.hhi.itm.ihhhheheeehe ru urtteo  tnru .....r.t.hi.hhh oihhhi hhhhheheere h r  retterrt t.P.i..tuieh.ehhh hieeerh ierrr,h uttrem tuPtd....r.h.iuaiuee .eeiih\n",
      "----- diversity: 1.2\n",
      "----- Generating with seed: \"oup members must be present for the presentation. Should there be any issues with the schedule, plea\"\n",
      "oup members must be present for the presentation. Should there be any issues with the schedule, pleafhrrn ee.p t.rptrrc tt.iyfhiut.ihrbhhie.h thheteeuireefo rr e.tby.rhdu.h . t..thhihfthhherhi..euryr re i ,i.t utt.tt..cihruh.ihhehethehhe e ut eurtoutt.t.ut.ut.euehhgtehihehehe  eer etrter rcs.siur dtumthiiihhhihehhhther.tierh uh r riu titottuiui...hh i.hu.h...ueh.ee ruu.rer irtrtdeu.htr..t..Phut,h.tohhethehuheer nrr P utc.uet.u..i..iP.udi.ethhhhhewehihruhere r r.t.tcpetebu. g trmc.prtiiae.uhihShh\n",
      "\n",
      "Epoch 9: loss improved from 0.86606 to 0.81656, saving model to weights.hdf5\n",
      "1/1 [==============================] - 48s 48s/step - loss: 0.8166 - lr: 0.0010\n",
      "Epoch 10/10\n",
      "1/1 [==============================] - ETA: 0s - loss: 0.8450\n",
      "----- Generating text after Epoch:  9\n",
      "----- diversity: 0.2\n",
      "----- Generating with seed: \" that all group members must be present for the presentation. Should there be any issues with the sc\"\n",
      " that all group members must be present for the presentation. Should there be any issues with the schhhheeeeeeeeerr r  r ttttt.hhhhhhhhhheeeeeeeeerrrrr rr tttt.tthhhhhhhhhheeeeeeeerrer r  tttttt...ihhhhhhhheeeeeeeer rrr r tttttttt..hhhhhhheeeeeeeer rr rr trttttt...hhhhhhhhheeeeeeeer  r    tttt.....hhhhhhheeeeeeerr rr r rtttttut....hhhhhhheeeeeeeerrrer  rrtttt.t.....hhhhhhheeeeeeeer rrrr r ttttt.....hhhhhhhheeeeeeerr rr  tttttt.t...hhhhhhheeeeeeeer rrrr   ttttutt..hhhhhhhheeeeeeeeerr  r r ttttt..\n",
      "----- diversity: 0.5\n",
      "----- Generating with seed: \" that all group members must be present for the presentation. Should there be any issues with the sc\"\n",
      " that all group members must be present for the presentation. Should there be any issues with the schhhheeeeeeee  reur rrtuu.ttttthhihhhhhhhheeee eer   r ttttitu....hh.hhhh eeeererer rrr  rtru.tt. uh..hihhhhhhheheer erre   u ttttutt....hhhheeeeeeeeeherr  rr tutt.th..hithhhhheheeeeeerer rurrrrr ttip..hiihhhhhhhhhheeeeeee re r rrttttt.utu.hhheh hheeeeeeeeerr rrrrrt.ttttt.hhhhhhhhheheeeeeee errr r .t ..i.t..hhhhhhhheeeeeeeer r eeurr .l.tuittt.ihhhhhhheieheeee rerrrrr u  turtt.iu..h.hhhhhheeeeeeee r\n",
      "----- diversity: 1.0\n",
      "----- Generating with seed: \" that all group members must be present for the presentation. Should there be any issues with the sc\"\n",
      " that all group members must be present for the presentation. Should there be any issues with the scheheeeeheehe  ruttu upiit.tuhihhihhhhhehehehe ehreu.  ti.tuhuih..hihhheuhheePoeer r erurru.rt trtti.nitihhhhhheheeeeeee rr Prr h.utui uthihtu.h.hhe.h re r eete  rer.reu tuumt..ihhuhhhhhheeeheee ee  r r  iirruihhP.hhhhihhhheheeeeerere t iurii.t..thutiuhhhhhhh eereeer tr riu tutt.wi hihhhhhhuhheh eee err r rrtr ePt.h.itu.hihhhhheeehee eu etrr r rrtuu..tu.u..tthhih.heheeeee err arr  iia ii..hi.thhhhh\n",
      "----- diversity: 1.2\n",
      "----- Generating with seed: \" that all group members must be present for the presentation. Should there be any issues with the sc\"\n",
      " that all group members must be present for the presentation. Should there be any issues with the scihheehererr  u r rty utttper.uihhh.hhheoereeheerrh   ugeruiu.uyil.ii..ehiwheiheehepeuer r c y triut.ru.hhaehhtiheeeer.iwrr e  errurt.atihnirihhehhehieeetre esr rrrtui....pt.iyhhth .hieeeh eree i u r erte.up.u.h.hhe ih heh.heeh  err uprut.e i.tiiiihh.hiehhtehaeseh reu.r utr .r.ie uhh.iP.hiih uehuiSereuee rr .rht.u.t.ili.i.uhhi.i.rheheeutee.rir  ut.tSio.hhii.thah hhhe eereeeert r rtthtute.auhharhe h\n",
      "\n",
      "Epoch 10: loss did not improve from 0.81656\n",
      "1/1 [==============================] - 48s 48s/step - loss: 0.8450 - lr: 0.0010\n"
     ]
    },
    {
     "data": {
      "text/plain": [
       "<keras.src.callbacks.History at 0x78ffd32f11e0>"
      ]
     },
     "execution_count": 17,
     "metadata": {},
     "output_type": "execute_result"
    }
   ],
   "source": [
    "# Training the LSTM model \n",
    "model.fit(X, y, batch_size = 128, epochs = 10, callbacks = callbacks) "
   ]
  },
  {
   "cell_type": "code",
   "execution_count": 18,
   "id": "ddcffa9c",
   "metadata": {},
   "outputs": [
    {
     "name": "stdout",
     "output_type": "stream",
     "text": [
      "embers must be present for the presentation. Should there be any issues with the schedule, please rer   tttttt.hhhhhhhhhheeeeeeeeerr rr   utttttt...hhhhhheheeeeeerr r r   utttt.tt..hhhhhhhheeeeeeere r rr rttttttt...hhhhhhhheeeeeeeerr  rrr .utttt..th.hhhhhhhheeeeeeer rr rr ttttttiu..hhhhhhheeeeeeeeerr  r  rttttt...hhhhhhhhheeeeeeeer rr r r rtttttt.hhhhhhhhheeeeeeeee rrrr  tttt.tthihhhhhhhhheeeeeeeerrr rr r tttut.....hhhhhhheeeeeeeer r  rr rutttt....hhhhhhhheeeeeeerrr  r t tt.t......hhhhhhhheeeeeee rrrr  tttttt.t.hhhhhhhhheeeeeeee r rrrrr t tttt....hhhhhhheeeeeeee rrr r tttttt.....hhhhhheeeeeeee\n"
     ]
    }
   ],
   "source": [
    "# Defining a utility function to generate new and random text based on the \n",
    "# network's learnings \n",
    "def generate_text(length, diversity): \n",
    "    # Get random starting text \n",
    "    start_index = random.randint(0, len(text) - max_length - 1) \n",
    "    generated = '' \n",
    "    sentence = text[start_index: start_index + max_length] \n",
    "    generated += sentence \n",
    "    for i in range(length): \n",
    "            x_pred = np.zeros((1, max_length, len(vocabulary))) \n",
    "            for t, char in enumerate(sentence): \n",
    "                x_pred[0, t, char_to_indices[char]] = 1.\n",
    "  \n",
    "            preds = model.predict(x_pred, verbose = 0)[0] \n",
    "            next_index = sample_index(preds, diversity) \n",
    "            next_char = indices_to_char[next_index] \n",
    "  \n",
    "            generated += next_char \n",
    "            sentence = sentence[1:] + next_char \n",
    "    return generated \n",
    "  \n",
    "print(generate_text(500, 0.2)) "
   ]
  },
  {
   "cell_type": "code",
   "execution_count": null,
   "id": "01d83060",
   "metadata": {},
   "outputs": [],
   "source": []
  },
  {
   "cell_type": "code",
   "execution_count": null,
   "id": "aa345505",
   "metadata": {},
   "outputs": [],
   "source": []
  },
  {
   "cell_type": "code",
   "execution_count": null,
   "id": "5d201ddc",
   "metadata": {},
   "outputs": [],
   "source": []
  },
  {
   "cell_type": "code",
   "execution_count": null,
   "id": "f90574c0",
   "metadata": {},
   "outputs": [],
   "source": []
  },
  {
   "cell_type": "code",
   "execution_count": null,
   "id": "21af63c7",
   "metadata": {},
   "outputs": [],
   "source": []
  },
  {
   "cell_type": "code",
   "execution_count": null,
   "id": "4da239b7",
   "metadata": {},
   "outputs": [],
   "source": []
  },
  {
   "cell_type": "code",
   "execution_count": null,
   "id": "f302a61d",
   "metadata": {},
   "outputs": [],
   "source": []
  },
  {
   "cell_type": "code",
   "execution_count": null,
   "id": "158236fa",
   "metadata": {},
   "outputs": [],
   "source": []
  },
  {
   "cell_type": "code",
   "execution_count": null,
   "id": "29bf0b97",
   "metadata": {},
   "outputs": [],
   "source": []
  },
  {
   "cell_type": "code",
   "execution_count": null,
   "id": "4eaf49bf",
   "metadata": {},
   "outputs": [],
   "source": []
  }
 ],
 "metadata": {
  "kernelspec": {
   "display_name": "Python 3 (ipykernel)",
   "language": "python",
   "name": "python3"
  },
  "language_info": {
   "codemirror_mode": {
    "name": "ipython",
    "version": 3
   },
   "file_extension": ".py",
   "mimetype": "text/x-python",
   "name": "python",
   "nbconvert_exporter": "python",
   "pygments_lexer": "ipython3",
   "version": "3.10.12"
  }
 },
 "nbformat": 4,
 "nbformat_minor": 5
}
