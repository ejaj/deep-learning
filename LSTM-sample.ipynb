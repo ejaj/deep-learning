{
 "cells": [
  {
   "cell_type": "markdown",
   "id": "5364a696",
   "metadata": {},
   "source": [
    "## TensorFlow ##"
   ]
  },
  {
   "cell_type": "code",
   "execution_count": 5,
   "id": "fb5641c3",
   "metadata": {},
   "outputs": [],
   "source": [
    "import numpy as np\n",
    "import tensorflow as tf\n",
    "from tensorflow.keras.models import Sequential\n",
    "from tensorflow.keras.layers import Dense, LSTM, Embedding\n",
    "from tensorflow.keras.utils import to_categorical"
   ]
  },
  {
   "cell_type": "code",
   "execution_count": 6,
   "id": "7dbb04d0",
   "metadata": {},
   "outputs": [],
   "source": [
    "text = \"Hello, this is a sample sentence for LSTM model.\""
   ]
  },
  {
   "cell_type": "code",
   "execution_count": 7,
   "id": "e8abcbdc",
   "metadata": {},
   "outputs": [
    {
     "data": {
      "text/plain": [
       "[' ',\n",
       " ',',\n",
       " '.',\n",
       " 'H',\n",
       " 'L',\n",
       " 'M',\n",
       " 'S',\n",
       " 'T',\n",
       " 'a',\n",
       " 'c',\n",
       " 'd',\n",
       " 'e',\n",
       " 'f',\n",
       " 'h',\n",
       " 'i',\n",
       " 'l',\n",
       " 'm',\n",
       " 'n',\n",
       " 'o',\n",
       " 'p',\n",
       " 'r',\n",
       " 's',\n",
       " 't']"
      ]
     },
     "execution_count": 7,
     "metadata": {},
     "output_type": "execute_result"
    }
   ],
   "source": [
    "chars = sorted(list(set(text)))\n",
    "chars"
   ]
  },
  {
   "cell_type": "code",
   "execution_count": 8,
   "id": "69fbf2ca",
   "metadata": {},
   "outputs": [
    {
     "data": {
      "text/plain": [
       "{' ': 0,\n",
       " ',': 1,\n",
       " '.': 2,\n",
       " 'H': 3,\n",
       " 'L': 4,\n",
       " 'M': 5,\n",
       " 'S': 6,\n",
       " 'T': 7,\n",
       " 'a': 8,\n",
       " 'c': 9,\n",
       " 'd': 10,\n",
       " 'e': 11,\n",
       " 'f': 12,\n",
       " 'h': 13,\n",
       " 'i': 14,\n",
       " 'l': 15,\n",
       " 'm': 16,\n",
       " 'n': 17,\n",
       " 'o': 18,\n",
       " 'p': 19,\n",
       " 'r': 20,\n",
       " 's': 21,\n",
       " 't': 22}"
      ]
     },
     "execution_count": 8,
     "metadata": {},
     "output_type": "execute_result"
    }
   ],
   "source": [
    "char_to_int = dict((c, i) for i, c in enumerate(chars))\n",
    "char_to_int"
   ]
  },
  {
   "cell_type": "code",
   "execution_count": 9,
   "id": "e016e762",
   "metadata": {},
   "outputs": [
    {
     "name": "stdout",
     "output_type": "stream",
     "text": [
      "Total Characters:  48\n",
      "Total Vocab:  23\n"
     ]
    }
   ],
   "source": [
    "# Summarize the dataset\n",
    "n_chars = len(text)\n",
    "n_vocab = len(chars)\n",
    "print(\"Total Characters: \", n_chars)\n",
    "print(\"Total Vocab: \", n_vocab)"
   ]
  },
  {
   "cell_type": "code",
   "execution_count": 15,
   "id": "7212d91d",
   "metadata": {},
   "outputs": [
    {
     "name": "stdout",
     "output_type": "stream",
     "text": [
      "In: Hello, thi\n",
      "Out: .\n",
      "In: ello, this\n",
      "Out: s\n",
      "In: llo, this \n",
      "Out:  \n",
      "In: lo, this i\n",
      "Out: i\n",
      "In: o, this is\n",
      "Out: s\n",
      "In: , this is \n",
      "Out:  \n",
      "In:  this is a\n",
      "Out: a\n",
      "In: this is a \n",
      "Out:  \n",
      "In: his is a s\n",
      "Out: s\n",
      "In: is is a sa\n",
      "Out: a\n",
      "In: s is a sam\n",
      "Out: m\n",
      "In:  is a samp\n",
      "Out: p\n",
      "In: is a sampl\n",
      "Out: l\n",
      "In: s a sample\n",
      "Out: e\n",
      "In:  a sample \n",
      "Out:  \n",
      "In: a sample s\n",
      "Out: s\n",
      "In:  sample se\n",
      "Out: e\n",
      "In: sample sen\n",
      "Out: n\n",
      "In: ample sent\n",
      "Out: t\n",
      "In: mple sente\n",
      "Out: e\n",
      "In: ple senten\n",
      "Out: n\n",
      "In: le sentenc\n",
      "Out: c\n",
      "In: e sentence\n",
      "Out: e\n",
      "In:  sentence \n",
      "Out:  \n",
      "In: sentence f\n",
      "Out: f\n",
      "In: entence fo\n",
      "Out: o\n",
      "In: ntence for\n",
      "Out: r\n",
      "In: tence for \n",
      "Out:  \n",
      "In: ence for L\n",
      "Out: L\n",
      "In: nce for LS\n",
      "Out: S\n",
      "In: ce for LST\n",
      "Out: T\n",
      "In: e for LSTM\n",
      "Out: M\n",
      "In:  for LSTM \n",
      "Out:  \n",
      "In: for LSTM m\n",
      "Out: m\n",
      "In: or LSTM mo\n",
      "Out: o\n",
      "In: r LSTM mod\n",
      "Out: d\n",
      "In:  LSTM mode\n",
      "Out: e\n",
      "In: LSTM model\n",
      "Out: l\n",
      "Total Patterns:  38\n"
     ]
    }
   ],
   "source": [
    "# Prepare the dataset of input to output pairs encoded as integers\n",
    "seq_length = 10\n",
    "dataX = []\n",
    "dataY = []\n",
    "for i in range(0, n_chars - seq_length, 1):\n",
    "    seq_in = text[i:i + seq_length]\n",
    "    print(\"In:\",seq_in)\n",
    "    print(\"Out:\",seq_out)\n",
    "    seq_out = text[i + seq_length]\n",
    "    dataX.append([char_to_int[char] for char in seq_in])\n",
    "    dataY.append(char_to_int[seq_out])\n",
    "n_patterns = len(dataX)\n",
    "print(\"Total Patterns: \", n_patterns)"
   ]
  },
  {
   "cell_type": "code",
   "execution_count": null,
   "id": "2f6b6f99",
   "metadata": {},
   "outputs": [],
   "source": []
  },
  {
   "cell_type": "code",
   "execution_count": null,
   "id": "2a9951dc",
   "metadata": {},
   "outputs": [],
   "source": []
  }
 ],
 "metadata": {
  "kernelspec": {
   "display_name": "Python 3 (ipykernel)",
   "language": "python",
   "name": "python3"
  },
  "language_info": {
   "codemirror_mode": {
    "name": "ipython",
    "version": 3
   },
   "file_extension": ".py",
   "mimetype": "text/x-python",
   "name": "python",
   "nbconvert_exporter": "python",
   "pygments_lexer": "ipython3",
   "version": "3.10.12"
  }
 },
 "nbformat": 4,
 "nbformat_minor": 5
}
