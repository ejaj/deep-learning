{
 "cells": [
  {
   "cell_type": "code",
   "execution_count": 37,
   "id": "22251f4a",
   "metadata": {},
   "outputs": [
    {
     "name": "stderr",
     "output_type": "stream",
     "text": [
      "2024-04-09 16:15:31.786467: I tensorflow/tsl/cuda/cudart_stub.cc:28] Could not find cuda drivers on your machine, GPU will not be used.\n",
      "2024-04-09 16:15:31.921110: I tensorflow/tsl/cuda/cudart_stub.cc:28] Could not find cuda drivers on your machine, GPU will not be used.\n",
      "2024-04-09 16:15:31.922349: I tensorflow/core/platform/cpu_feature_guard.cc:182] This TensorFlow binary is optimized to use available CPU instructions in performance-critical operations.\n",
      "To enable the following instructions: AVX2 FMA, in other operations, rebuild TensorFlow with the appropriate compiler flags.\n",
      "2024-04-09 16:15:32.704456: W tensorflow/compiler/tf2tensorrt/utils/py_utils.cc:38] TF-TRT Warning: Could not find TensorRT\n"
     ]
    }
   ],
   "source": [
    "import numpy as np \n",
    "import tensorflow as tf \n",
    "  \n",
    "from keras.models import Sequential \n",
    "from keras.layers import Dense, Activation \n",
    "from keras.layers import LSTM \n",
    "  \n",
    "from keras.optimizers import RMSprop \n",
    "  \n",
    "from keras.callbacks import LambdaCallback \n",
    "from keras.callbacks import ModelCheckpoint \n",
    "from keras.callbacks import ReduceLROnPlateau \n",
    "import random \n",
    "import sys"
   ]
  },
  {
   "cell_type": "code",
   "execution_count": 38,
   "id": "f416054c",
   "metadata": {},
   "outputs": [],
   "source": [
    "# with open('data/article.txt', 'r') as file: \n",
    "#     text = file.read()     \n",
    "# print(text) "
   ]
  },
  {
   "cell_type": "code",
   "execution_count": 39,
   "id": "9a5b0873",
   "metadata": {},
   "outputs": [
    {
     "name": "stdout",
     "output_type": "stream",
     "text": [
      "25\n"
     ]
    }
   ],
   "source": [
    "text = \"Please remember that all group members must be present for the presentation. Should there be any issues with the schedule, please reach out to us.\"\n",
    "# Storing all the unique characters present in the text \n",
    "vocabulary = sorted(list(set(text)))\n",
    "print(len(vocabulary))\n",
    "# vocabulary"
   ]
  },
  {
   "cell_type": "code",
   "execution_count": 40,
   "id": "b180caa3",
   "metadata": {},
   "outputs": [],
   "source": [
    "# Creating dictionaries to map each character to an index \n",
    "char_to_indices = dict((c, i) for i, c in enumerate(vocabulary)) \n",
    "indices_to_char = dict((i, c) for i, c in enumerate(vocabulary)) "
   ]
  },
  {
   "cell_type": "code",
   "execution_count": 41,
   "id": "8bbdae5b",
   "metadata": {},
   "outputs": [
    {
     "name": "stdout",
     "output_type": "stream",
     "text": [
      "['Please remember that all group members must be present for the presentation. Should there be any iss', 'e remember that all group members must be present for the presentation. Should there be any issues w', 'ember that all group members must be present for the presentation. Should there be any issues with t', ' that all group members must be present for the presentation. Should there be any issues with the sc', ' all group members must be present for the presentation. Should there be any issues with the schedul', 'group members must be present for the presentation. Should there be any issues with the schedule, pl', ' members must be present for the presentation. Should there be any issues with the schedule, please ', 'ers must be present for the presentation. Should there be any issues with the schedule, please reach', 'ust be present for the presentation. Should there be any issues with the schedule, please reach out ', 'e present for the presentation. Should there be any issues with the schedule, please reach out to us']\n",
      "['u', 'i', 'h', 'h', 'e', 'e', 'r', ' ', 't', '.']\n"
     ]
    }
   ],
   "source": [
    "max_length = 100\n",
    "steps = 5\n",
    "sentences = [] \n",
    "next_chars = []\n",
    "for i in range(0, len(text) - max_length, steps): \n",
    "    sentences.append(text[i: i + max_length])\n",
    "    next_chars.append(text[i + max_length])\n",
    "print(sentences)\n",
    "print(next_chars)"
   ]
  },
  {
   "cell_type": "code",
   "execution_count": 42,
   "id": "0df88f9a",
   "metadata": {},
   "outputs": [],
   "source": [
    "X = np.zeros((len(sentences), max_length, len(vocabulary)), dtype=bool)\n",
    "y = np.zeros((len(sentences), len(vocabulary)), dtype = bool)"
   ]
  },
  {
   "cell_type": "code",
   "execution_count": 43,
   "id": "5679ec05",
   "metadata": {},
   "outputs": [],
   "source": [
    "for i, sentence in enumerate(sentences): \n",
    "    for t, char in enumerate(sentence): \n",
    "        X[i, t, char_to_indices[char]] = 1\n",
    "    y[i, char_to_indices[next_chars[i]]] = 1"
   ]
  },
  {
   "cell_type": "markdown",
   "id": "73a81e0c",
   "metadata": {},
   "source": [
    "## Building the LSTM ##"
   ]
  },
  {
   "cell_type": "code",
   "execution_count": null,
   "id": "94b3ba1c",
   "metadata": {},
   "outputs": [],
   "source": [
    "model = Sequential() \n",
    "model.add(LSTM())"
   ]
  },
  {
   "cell_type": "code",
   "execution_count": null,
   "id": "3157a709",
   "metadata": {},
   "outputs": [],
   "source": []
  },
  {
   "cell_type": "code",
   "execution_count": null,
   "id": "57e2e525",
   "metadata": {},
   "outputs": [],
   "source": []
  },
  {
   "cell_type": "code",
   "execution_count": null,
   "id": "3086057f",
   "metadata": {},
   "outputs": [],
   "source": []
  },
  {
   "cell_type": "code",
   "execution_count": null,
   "id": "dfe41a8f",
   "metadata": {},
   "outputs": [],
   "source": []
  },
  {
   "cell_type": "code",
   "execution_count": null,
   "id": "5afc1e52",
   "metadata": {},
   "outputs": [],
   "source": []
  },
  {
   "cell_type": "code",
   "execution_count": null,
   "id": "ddcffa9c",
   "metadata": {},
   "outputs": [],
   "source": []
  },
  {
   "cell_type": "code",
   "execution_count": null,
   "id": "01d83060",
   "metadata": {},
   "outputs": [],
   "source": []
  },
  {
   "cell_type": "code",
   "execution_count": null,
   "id": "aa345505",
   "metadata": {},
   "outputs": [],
   "source": []
  },
  {
   "cell_type": "code",
   "execution_count": null,
   "id": "5d201ddc",
   "metadata": {},
   "outputs": [],
   "source": []
  },
  {
   "cell_type": "code",
   "execution_count": null,
   "id": "f90574c0",
   "metadata": {},
   "outputs": [],
   "source": []
  },
  {
   "cell_type": "code",
   "execution_count": null,
   "id": "21af63c7",
   "metadata": {},
   "outputs": [],
   "source": []
  },
  {
   "cell_type": "code",
   "execution_count": null,
   "id": "4da239b7",
   "metadata": {},
   "outputs": [],
   "source": []
  },
  {
   "cell_type": "code",
   "execution_count": null,
   "id": "f302a61d",
   "metadata": {},
   "outputs": [],
   "source": []
  },
  {
   "cell_type": "code",
   "execution_count": null,
   "id": "158236fa",
   "metadata": {},
   "outputs": [],
   "source": []
  },
  {
   "cell_type": "code",
   "execution_count": null,
   "id": "29bf0b97",
   "metadata": {},
   "outputs": [],
   "source": []
  },
  {
   "cell_type": "code",
   "execution_count": null,
   "id": "4eaf49bf",
   "metadata": {},
   "outputs": [],
   "source": []
  }
 ],
 "metadata": {
  "kernelspec": {
   "display_name": "Python 3 (ipykernel)",
   "language": "python",
   "name": "python3"
  },
  "language_info": {
   "codemirror_mode": {
    "name": "ipython",
    "version": 3
   },
   "file_extension": ".py",
   "mimetype": "text/x-python",
   "name": "python",
   "nbconvert_exporter": "python",
   "pygments_lexer": "ipython3",
   "version": "3.10.12"
  }
 },
 "nbformat": 4,
 "nbformat_minor": 5
}
