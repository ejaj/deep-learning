{
 "cells": [
  {
   "cell_type": "markdown",
   "id": "ba37d365",
   "metadata": {},
   "source": [
    "Class material prepared by\n",
    "\n",
    "    Marco Pizzolato, PhD\n",
    "    \n",
    "    DTU Compute\n",
    "    Richard Petersens Plads, 324, 110\n",
    "    2800 Kgs. Lyngby\n",
    "    Denmark\n",
    "\n",
    "e-mail [mapiz@dtu.dk](mailto:mapiz@dtu.dk)\n",
    "\n",
    "orbit https://orbit.dtu.dk/en/persons/marco-pizzolato\n",
    "\n",
    "website https://sites.google.com/site/pizzolatomarco/"
   ]
  },
  {
   "cell_type": "markdown",
   "id": "3f589e5d",
   "metadata": {},
   "source": [
    "# Beer's Law, exercises\n",
    "\n",
    "\n",
    "<div>\n",
    "<img src=\"./img_01_beer_law.png\" width=\"500\"/>\n",
    "</div>\n"
   ]
  },
  {
   "cell_type": "markdown",
   "id": "681f6a09",
   "metadata": {},
   "source": [
    "### Exercise 1\n",
    "A slab of material is examined with x-ray imaging. On the trajectory at the point of contact between the x-ray beam and the material, the beam has an intesnity of 6$au$. The material is homogeneous and has an attenuation of 0.05$a.u.$ for each millimiter. To cross completely the slab, the beam has to travel a distance of 8mm. **What is the intensity of the beam when it leaves the slab of material?**. We suppose that when not in the material, the beam travels in the vacuum."
   ]
  },
  {
   "cell_type": "code",
   "execution_count": 1,
   "id": "b71d7119",
   "metadata": {},
   "outputs": [
    {
     "data": {
      "text/plain": [
       "4.0219202762138355"
      ]
     },
     "execution_count": 1,
     "metadata": {},
     "output_type": "execute_result"
    }
   ],
   "source": [
    "# Given values\n",
    "I0 = 6  # initial intensity in arbitrary units (au)\n",
    "k = 0.05  # attenuation coefficient in au/mm\n",
    "x = 8  # path length in mm\n",
    "\n",
    "# Applying Beer's Law formula: I = I0 * e^(-kx)\n",
    "import math\n",
    "I1 = I0 * math.exp(-k * x)\n",
    "I1"
   ]
  },
  {
   "cell_type": "markdown",
   "id": "0f395dd3",
   "metadata": {},
   "source": [
    "### Exercise 2\n",
    "The resulting beam from the previous collision is made pass through a second slab of materal with an attenuation of 0.09$a.u.$ for each millimiter. To cross completely the slab, the beam has to travel a distance of 2mm. **What is the intensity of the beam when it leaves the second slab of material?**"
   ]
  },
  {
   "cell_type": "code",
   "execution_count": 3,
   "id": "f5ae22c8",
   "metadata": {},
   "outputs": [
    {
     "data": {
      "text/plain": [
       "3.359390199392412"
      ]
     },
     "execution_count": 3,
     "metadata": {},
     "output_type": "execute_result"
    }
   ],
   "source": [
    "# Updated values for the second slab\n",
    "k2 = 0.09  # new attenuation coefficient in au/mm for the second slab\n",
    "x2 = 2  # new path length in mm for the second slab\n",
    "\n",
    "# Applying Beer's Law formula again with the new values and I1 as the initial intensity\n",
    "I2 = I1 * math.exp(-k2 * x2)\n",
    "I2"
   ]
  },
  {
   "cell_type": "code",
   "execution_count": null,
   "id": "732c6920",
   "metadata": {},
   "outputs": [],
   "source": []
  }
 ],
 "metadata": {
  "kernelspec": {
   "display_name": "Python 3 (ipykernel)",
   "language": "python",
   "name": "python3"
  },
  "language_info": {
   "codemirror_mode": {
    "name": "ipython",
    "version": 3
   },
   "file_extension": ".py",
   "mimetype": "text/x-python",
   "name": "python",
   "nbconvert_exporter": "python",
   "pygments_lexer": "ipython3",
   "version": "3.10.12"
  },
  "vscode": {
   "interpreter": {
    "hash": "7f7c8b01cee31add7871201a2ddeb2bc4a128dc8179b617cafbbfe21924e4588"
   }
  }
 },
 "nbformat": 4,
 "nbformat_minor": 5
}
