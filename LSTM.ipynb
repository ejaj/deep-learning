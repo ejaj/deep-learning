{
 "cells": [
  {
   "cell_type": "code",
   "execution_count": 15,
   "id": "b80c811b",
   "metadata": {},
   "outputs": [],
   "source": [
    "import torch\n",
    "from torch.utils.data import TensorDataset, DataLoader\n",
    "import torch.nn as nn\n",
    "import torch.optim as optim\n",
    "import matplotlib.pyplot as plt"
   ]
  },
  {
   "cell_type": "markdown",
   "id": "2ab8a81a",
   "metadata": {},
   "source": [
    "# Manually Implementing an LSTM Cell"
   ]
  },
  {
   "cell_type": "code",
   "execution_count": 16,
   "id": "9dab3035",
   "metadata": {},
   "outputs": [],
   "source": [
    "# Define the input and hidden dimensions\n",
    "n_features = 2\n",
    "hidden_dim = 2"
   ]
  },
  {
   "cell_type": "code",
   "execution_count": 17,
   "id": "68d59e1f",
   "metadata": {},
   "outputs": [
    {
     "data": {
      "text/plain": [
       "OrderedDict([('weight_ih',\n",
       "              tensor([[-0.0930,  0.0497],\n",
       "                      [ 0.4670, -0.5319],\n",
       "                      [-0.6656,  0.0699],\n",
       "                      [-0.1662,  0.0654],\n",
       "                      [-0.0449, -0.6828],\n",
       "                      [-0.6769, -0.1889],\n",
       "                      [-0.4167, -0.4352],\n",
       "                      [-0.2060, -0.3989]])),\n",
       "             ('weight_hh',\n",
       "              tensor([[-0.7070, -0.5083],\n",
       "                      [ 0.1418,  0.0930],\n",
       "                      [-0.5729, -0.5700],\n",
       "                      [-0.1818, -0.6691],\n",
       "                      [-0.4316,  0.4019],\n",
       "                      [ 0.1222, -0.4647],\n",
       "                      [-0.5578,  0.4493],\n",
       "                      [-0.6800,  0.4422]])),\n",
       "             ('bias_ih',\n",
       "              tensor([-0.3559, -0.0279,  0.6553,  0.2918,  0.4007,  0.3262, -0.0778, -0.3002])),\n",
       "             ('bias_hh',\n",
       "              tensor([-0.3991, -0.3200,  0.3483, -0.2604, -0.1582,  0.5558,  0.5761, -0.3919]))])"
      ]
     },
     "execution_count": 17,
     "metadata": {},
     "output_type": "execute_result"
    }
   ],
   "source": [
    "# Initialize the LSTM cell\n",
    "torch.manual_seed(17)\n",
    "lstm_cell = nn.LSTMCell(input_size=n_features, hidden_size=hidden_dim)\n",
    "lstm_state = lstm_cell.state_dict()\n",
    "lstm_state"
   ]
  },
  {
   "cell_type": "code",
   "execution_count": 18,
   "id": "ff8b3064",
   "metadata": {},
   "outputs": [],
   "source": [
    "Wx, bx = lstm_state['weight_ih'], lstm_state['bias_ih']\n",
    "Wh, bh = lstm_state['weight_hh'], lstm_state['bias_hh']"
   ]
  },
  {
   "cell_type": "code",
   "execution_count": 19,
   "id": "5fa1f56a",
   "metadata": {},
   "outputs": [],
   "source": [
    "# input gate(i), forget gate (f), cell candidate (g), and output gate (o).\n",
    "Wxi, Wxf, Wxg, Wxo = Wx.split(hidden_dim, dim=0)\n",
    "bxi, bxf, bxg, bxo = bx.split(hidden_dim, dim=0)\n",
    "Whi, Whf, Whg, Who = Wh.split(hidden_dim, dim=0)\n",
    "bhi, bhf, bhg, bho = bh.split(hidden_dim, dim=0)"
   ]
  },
  {
   "cell_type": "code",
   "execution_count": 20,
   "id": "e452ec2a",
   "metadata": {},
   "outputs": [],
   "source": [
    "# Define a helper function to create linear layers\n",
    "def linear_layers(Wx, bx, Wh, bh):\n",
    "    hidden_dim, n_features = Wx.size()\n",
    "    lin_input = nn.Linear(n_features, hidden_dim)\n",
    "    lin_input.load_state_dict({'weight': Wx, 'bias': bx})\n",
    "    lin_hidden = nn.Linear(hidden_dim, hidden_dim)\n",
    "    lin_hidden.load_state_dict({'weight': Wh, 'bias': bh})\n",
    "    return lin_hidden, lin_input"
   ]
  },
  {
   "cell_type": "code",
   "execution_count": 21,
   "id": "8d27ece5",
   "metadata": {},
   "outputs": [],
   "source": [
    "# Create linear layers for each gate and the candidate cell state\n",
    "i_hidden, i_input = linear_layers(Wxi, bxi, Whi, bhi)  # Input gate\n",
    "f_hidden, f_input = linear_layers(Wxf, bxf, Whf, bhf)  # Forget gate\n",
    "o_hidden, o_input = linear_layers(Wxo, bxo, Who, bho)  # Output gate"
   ]
  },
  {
   "cell_type": "code",
   "execution_count": 22,
   "id": "9c9fb921",
   "metadata": {},
   "outputs": [
    {
     "data": {
      "text/plain": [
       "<All keys matched successfully>"
      ]
     },
     "execution_count": 22,
     "metadata": {},
     "output_type": "execute_result"
    }
   ],
   "source": [
    "# Create an RNN cell for the candidate hidden state (g)\n",
    "g_cell = nn.RNNCell(n_features, hidden_dim)  # Candidate hidden state\n",
    "g_cell.load_state_dict({'weight_ih': Wxg, 'bias_ih': bxg, 'weight_hh': Whg, 'bias_hh': bhg})"
   ]
  },
  {
   "cell_type": "code",
   "execution_count": 23,
   "id": "08b33eb7",
   "metadata": {},
   "outputs": [],
   "source": [
    "# Define gate functions\n",
    "def input_gate(h, x):\n",
    "    thi = i_hidden(h)\n",
    "    txi = i_input(x)\n",
    "    i = torch.sigmoid(thi + txi)\n",
    "    return i\n",
    "\n",
    "def forget_gate(h, x):\n",
    "    thf = f_hidden(h)\n",
    "    txf = f_input(x)\n",
    "    f = torch.sigmoid(thf + txf)\n",
    "    return f\n",
    "\n",
    "def output_gate(h, x):\n",
    "    tho = o_hidden(h)\n",
    "    txo = o_input(x)\n",
    "    o = torch.sigmoid(tho + txo)\n",
    "    return o"
   ]
  },
  {
   "cell_type": "code",
   "execution_count": 24,
   "id": "69201244",
   "metadata": {},
   "outputs": [],
   "source": [
    "# Initial hidden state and cell state\n",
    "initial_hidden = torch.zeros(1, hidden_dim)\n",
    "initial_cell = torch.zeros(1, hidden_dim)"
   ]
  },
  {
   "cell_type": "code",
   "execution_count": 25,
   "id": "fe427561",
   "metadata": {},
   "outputs": [
    {
     "name": "stdout",
     "output_type": "stream",
     "text": [
      "Candidate hidden state (g): tensor([[0.1011, 0.6507]], grad_fn=<TanhBackward0>)\n",
      "Input gate (i): tensor([[0.3199, 0.3995]], grad_fn=<SigmoidBackward0>)\n",
      "Forget gate (f): tensor([[0.7213, 0.5070]], grad_fn=<SigmoidBackward0>)\n",
      "Output gate (o): tensor([[0.5914, 0.3116]], grad_fn=<SigmoidBackward0>)\n",
      "New cell state (c'): tensor([[0.0323, 0.2600]], grad_fn=<AddBackward0>)\n",
      "New hidden state (h'): tensor([[0.0191, 0.0792]], grad_fn=<MulBackward0>)\n",
      "LSTM cell output (hidden state, cell state): (tensor([[0.0191, 0.0792]], grad_fn=<MulBackward0>), tensor([[0.0323, 0.2600]], grad_fn=<AddBackward0>))\n"
     ]
    }
   ],
   "source": [
    "X = torch.tensor([[0.1, 0.2]], dtype=torch.float32)\n",
    "\n",
    "# Compute candidate hidden state (g)\n",
    "g = g_cell(X, initial_hidden)\n",
    "\n",
    "# Compute gates\n",
    "i = input_gate(initial_hidden, X)\n",
    "f = forget_gate(initial_hidden, X)\n",
    "o = output_gate(initial_hidden, X)\n",
    "\n",
    "# Compute new cell state\n",
    "c_prime = (f * initial_cell) + (i * g)\n",
    "\n",
    "# Compute new hidden state\n",
    "h_prime = o * torch.tanh(c_prime)\n",
    "\n",
    "print(f\"Candidate hidden state (g): {g}\")\n",
    "print(f\"Input gate (i): {i}\")\n",
    "print(f\"Forget gate (f): {f}\")\n",
    "print(f\"Output gate (o): {o}\")\n",
    "print(f\"New cell state (c'): {c_prime}\")\n",
    "print(f\"New hidden state (h'): {h_prime}\")\n",
    "\n",
    "# Verify with PyTorch LSTM cell\n",
    "lstm_out = lstm_cell(X, (initial_hidden, initial_cell))\n",
    "print(f\"LSTM cell output (hidden state, cell state): {lstm_out}\")"
   ]
  },
  {
   "cell_type": "markdown",
   "id": "3261f368",
   "metadata": {},
   "source": [
    "# LSTM Model"
   ]
  },
  {
   "cell_type": "code",
   "execution_count": 26,
   "id": "7349eae3",
   "metadata": {},
   "outputs": [],
   "source": [
    "# Generate synthetic data\n",
    "def generate_sequences(seed):\n",
    "    torch.manual_seed(seed)\n",
    "    points = torch.randn(100, 4, 2)  # 100 sequences, each with 4 points (x, y)\n",
    "    directions = torch.randint(0, 2, (100,))  # 100 labels (0 or 1)\n",
    "    return points, directions"
   ]
  },
  {
   "cell_type": "code",
   "execution_count": 27,
   "id": "c8d7fa86",
   "metadata": {},
   "outputs": [],
   "source": [
    "train_points, train_directions = generate_sequences(seed=19)\n",
    "test_points, test_directions = generate_sequences(seed=42)\n",
    "\n",
    "# Prepare data loaders\n",
    "train_data = TensorDataset(torch.as_tensor(train_points).float(), torch.as_tensor(train_directions).view(-1, 1).float())\n",
    "test_data = TensorDataset(torch.as_tensor(test_points).float(), torch.as_tensor(test_directions).view(-1, 1).float())\n",
    "\n",
    "train_loader = DataLoader(train_data, batch_size=16, shuffle=True)\n",
    "test_loader = DataLoader(test_data, batch_size=16)"
   ]
  },
  {
   "cell_type": "code",
   "execution_count": 28,
   "id": "ff6c9c09",
   "metadata": {},
   "outputs": [],
   "source": [
    "# Define the model using an LSTM\n",
    "class LSTMModel(nn.Module):\n",
    "    def __init__(self, n_features, hidden_dim, n_outputs):\n",
    "        super(LSTMModel, self).__init__()\n",
    "        self.hidden_dim = hidden_dim\n",
    "        self.n_features = n_features\n",
    "        self.n_outputs = n_outputs\n",
    "        \n",
    "        # LSTM layer\n",
    "        self.lstm = nn.LSTM(self.n_features, self.hidden_dim, batch_first=True)\n",
    "        # Classifier to produce as many logits as outputs\n",
    "        self.classifier = nn.Linear(self.hidden_dim, self.n_outputs)\n",
    "\n",
    "    def forward(self, X):\n",
    "        # X is batch first (N, L, F)\n",
    "        # output is (N, L, H)\n",
    "        batch_first_output, (hn, cn) = self.lstm(X)\n",
    "        \n",
    "        # Only last item in sequence (N, 1, H)\n",
    "        last_output = batch_first_output[:, -1, :]\n",
    "        \n",
    "        # Classifier will output (N, 1, n_outputs)\n",
    "        out = self.classifier(last_output)\n",
    "        \n",
    "        # Final output is (N, n_outputs)\n",
    "        return out.view(-1, self.n_outputs)"
   ]
  },
  {
   "cell_type": "code",
   "execution_count": 29,
   "id": "65ebd433",
   "metadata": {},
   "outputs": [],
   "source": [
    "# Model instance\n",
    "torch.manual_seed(21)\n",
    "model = LSTMModel(n_features=2, hidden_dim=2, n_outputs=1)\n",
    "\n",
    "# Define loss function and optimizer\n",
    "loss_fn = nn.BCEWithLogitsLoss()\n",
    "optimizer = optim.Adam(model.parameters(), lr=0.01)"
   ]
  },
  {
   "cell_type": "code",
   "execution_count": 30,
   "id": "fbce158f",
   "metadata": {},
   "outputs": [],
   "source": [
    "# Training function\n",
    "def train(model, train_loader, loss_fn, optimizer, epochs=10):\n",
    "    model.train()\n",
    "    train_losses = []\n",
    "    val_losses = []\n",
    "    for epoch in range(epochs):\n",
    "        epoch_loss = 0\n",
    "        for inputs, labels in train_loader:\n",
    "            optimizer.zero_grad()\n",
    "            outputs = model(inputs)\n",
    "            loss = loss_fn(outputs, labels)\n",
    "            loss.backward()\n",
    "            optimizer.step()\n",
    "            epoch_loss += loss.item()\n",
    "        train_losses.append(epoch_loss / len(train_loader))\n",
    "        print(f'Epoch {epoch+1}, Loss: {epoch_loss / len(train_loader):.4f}')\n",
    "        \n",
    "        val_loss, _ = evaluate(model, test_loader, loss_fn)\n",
    "        val_losses.append(val_loss)\n",
    "\n",
    "    return train_losses, val_losses"
   ]
  },
  {
   "cell_type": "code",
   "execution_count": 31,
   "id": "858e7bfa",
   "metadata": {},
   "outputs": [],
   "source": [
    "# Evaluation function\n",
    "def evaluate(model, test_loader, loss_fn):\n",
    "    model.eval()\n",
    "    epoch_val_loss = 0\n",
    "    correct = 0\n",
    "    total = 0\n",
    "    with torch.no_grad():\n",
    "        for inputs, labels in test_loader:\n",
    "            outputs = model(inputs)\n",
    "            loss = loss_fn(outputs, labels)\n",
    "            epoch_val_loss += loss.item()\n",
    "            predicted = (torch.sigmoid(outputs) > 0.5).float()\n",
    "            total += labels.size(0)\n",
    "            correct += (predicted == labels).sum().item()\n",
    "    \n",
    "    avg_val_loss = epoch_val_loss / len(test_loader)\n",
    "    accuracy = correct / total\n",
    "    print(f'Validation Loss: {avg_val_loss:.4f}, Accuracy: {accuracy * 100:.2f}%')\n",
    "    return avg_val_loss, accuracy"
   ]
  },
  {
   "cell_type": "code",
   "execution_count": 35,
   "id": "e729a2c1",
   "metadata": {},
   "outputs": [
    {
     "name": "stdout",
     "output_type": "stream",
     "text": [
      "Epoch 1, Loss: 0.4249\n",
      "Validation Loss: 0.9904, Accuracy: 48.00%\n",
      "Epoch 2, Loss: 0.4294\n",
      "Validation Loss: 0.9940, Accuracy: 46.00%\n",
      "Epoch 3, Loss: 0.4010\n",
      "Validation Loss: 0.9989, Accuracy: 46.00%\n",
      "Epoch 4, Loss: 0.4423\n",
      "Validation Loss: 0.9947, Accuracy: 46.00%\n",
      "Epoch 5, Loss: 0.4258\n",
      "Validation Loss: 1.0190, Accuracy: 46.00%\n",
      "Epoch 6, Loss: 0.3990\n",
      "Validation Loss: 1.0271, Accuracy: 47.00%\n",
      "Epoch 7, Loss: 0.4416\n",
      "Validation Loss: 1.0215, Accuracy: 45.00%\n",
      "Epoch 8, Loss: 0.4151\n",
      "Validation Loss: 1.0141, Accuracy: 46.00%\n",
      "Epoch 9, Loss: 0.4768\n",
      "Validation Loss: 1.0101, Accuracy: 47.00%\n",
      "Epoch 10, Loss: 0.3871\n",
      "Validation Loss: 1.0141, Accuracy: 46.00%\n",
      "Epoch 11, Loss: 0.4357\n",
      "Validation Loss: 1.0135, Accuracy: 46.00%\n",
      "Epoch 12, Loss: 0.4629\n",
      "Validation Loss: 1.0109, Accuracy: 46.00%\n",
      "Epoch 13, Loss: 0.4100\n",
      "Validation Loss: 1.0134, Accuracy: 44.00%\n",
      "Epoch 14, Loss: 0.4417\n",
      "Validation Loss: 1.0101, Accuracy: 45.00%\n",
      "Epoch 15, Loss: 0.3823\n",
      "Validation Loss: 1.0034, Accuracy: 46.00%\n",
      "Epoch 16, Loss: 0.4017\n",
      "Validation Loss: 1.0097, Accuracy: 46.00%\n",
      "Epoch 17, Loss: 0.3901\n",
      "Validation Loss: 1.0222, Accuracy: 45.00%\n",
      "Epoch 18, Loss: 0.4256\n",
      "Validation Loss: 1.0296, Accuracy: 46.00%\n",
      "Epoch 19, Loss: 0.3767\n",
      "Validation Loss: 1.0269, Accuracy: 45.00%\n",
      "Epoch 20, Loss: 0.3722\n",
      "Validation Loss: 1.0273, Accuracy: 45.00%\n",
      "Epoch 21, Loss: 0.3874\n",
      "Validation Loss: 1.0308, Accuracy: 46.00%\n",
      "Epoch 22, Loss: 0.4167\n",
      "Validation Loss: 1.0248, Accuracy: 45.00%\n",
      "Epoch 23, Loss: 0.4012\n",
      "Validation Loss: 1.0342, Accuracy: 46.00%\n",
      "Epoch 24, Loss: 0.3867\n",
      "Validation Loss: 1.0435, Accuracy: 46.00%\n",
      "Epoch 25, Loss: 0.3940\n",
      "Validation Loss: 1.0445, Accuracy: 46.00%\n",
      "Epoch 26, Loss: 0.4106\n",
      "Validation Loss: 1.0445, Accuracy: 46.00%\n",
      "Epoch 27, Loss: 0.3854\n",
      "Validation Loss: 1.0353, Accuracy: 46.00%\n",
      "Epoch 28, Loss: 0.3733\n",
      "Validation Loss: 1.0398, Accuracy: 45.00%\n",
      "Epoch 29, Loss: 0.3649\n",
      "Validation Loss: 1.0445, Accuracy: 45.00%\n",
      "Epoch 30, Loss: 0.3920\n",
      "Validation Loss: 1.0498, Accuracy: 45.00%\n",
      "Epoch 31, Loss: 0.4388\n",
      "Validation Loss: 1.0441, Accuracy: 46.00%\n",
      "Epoch 32, Loss: 0.3820\n",
      "Validation Loss: 1.0448, Accuracy: 46.00%\n",
      "Epoch 33, Loss: 0.3783\n",
      "Validation Loss: 1.0440, Accuracy: 45.00%\n",
      "Epoch 34, Loss: 0.4240\n",
      "Validation Loss: 1.0503, Accuracy: 45.00%\n",
      "Epoch 35, Loss: 0.3802\n",
      "Validation Loss: 1.0491, Accuracy: 45.00%\n",
      "Epoch 36, Loss: 0.4050\n",
      "Validation Loss: 1.0578, Accuracy: 44.00%\n",
      "Epoch 37, Loss: 0.3800\n",
      "Validation Loss: 1.0622, Accuracy: 44.00%\n",
      "Epoch 38, Loss: 0.3794\n",
      "Validation Loss: 1.0693, Accuracy: 45.00%\n",
      "Epoch 39, Loss: 0.4247\n",
      "Validation Loss: 1.0654, Accuracy: 45.00%\n",
      "Epoch 40, Loss: 0.3756\n",
      "Validation Loss: 1.0619, Accuracy: 45.00%\n",
      "Epoch 41, Loss: 0.3690\n",
      "Validation Loss: 1.0623, Accuracy: 45.00%\n",
      "Epoch 42, Loss: 0.3493\n",
      "Validation Loss: 1.0688, Accuracy: 45.00%\n",
      "Epoch 43, Loss: 0.3750\n",
      "Validation Loss: 1.0766, Accuracy: 45.00%\n",
      "Epoch 44, Loss: 0.4268\n",
      "Validation Loss: 1.0853, Accuracy: 45.00%\n",
      "Epoch 45, Loss: 0.4594\n",
      "Validation Loss: 1.0940, Accuracy: 45.00%\n",
      "Epoch 46, Loss: 0.4108\n",
      "Validation Loss: 1.0871, Accuracy: 44.00%\n",
      "Epoch 47, Loss: 0.3549\n",
      "Validation Loss: 1.0791, Accuracy: 43.00%\n",
      "Epoch 48, Loss: 0.4033\n",
      "Validation Loss: 1.0690, Accuracy: 43.00%\n",
      "Epoch 49, Loss: 0.4002\n",
      "Validation Loss: 1.0697, Accuracy: 44.00%\n",
      "Epoch 50, Loss: 0.3599\n",
      "Validation Loss: 1.0709, Accuracy: 45.00%\n",
      "Epoch 51, Loss: 0.4326\n",
      "Validation Loss: 1.0806, Accuracy: 45.00%\n",
      "Epoch 52, Loss: 0.4087\n",
      "Validation Loss: 1.0911, Accuracy: 43.00%\n",
      "Epoch 53, Loss: 0.3685\n",
      "Validation Loss: 1.0913, Accuracy: 44.00%\n",
      "Epoch 54, Loss: 0.3693\n",
      "Validation Loss: 1.0899, Accuracy: 45.00%\n",
      "Epoch 55, Loss: 0.3587\n",
      "Validation Loss: 1.0856, Accuracy: 45.00%\n",
      "Epoch 56, Loss: 0.3593\n",
      "Validation Loss: 1.0910, Accuracy: 45.00%\n",
      "Epoch 57, Loss: 0.3587\n",
      "Validation Loss: 1.0954, Accuracy: 45.00%\n",
      "Epoch 58, Loss: 0.3394\n",
      "Validation Loss: 1.1019, Accuracy: 44.00%\n",
      "Epoch 59, Loss: 0.3599\n",
      "Validation Loss: 1.1073, Accuracy: 44.00%\n",
      "Epoch 60, Loss: 0.3956\n",
      "Validation Loss: 1.1144, Accuracy: 44.00%\n",
      "Epoch 61, Loss: 0.3395\n",
      "Validation Loss: 1.1158, Accuracy: 44.00%\n",
      "Epoch 62, Loss: 0.3446\n",
      "Validation Loss: 1.1164, Accuracy: 44.00%\n",
      "Epoch 63, Loss: 0.3409\n",
      "Validation Loss: 1.1197, Accuracy: 44.00%\n",
      "Epoch 64, Loss: 0.4079\n",
      "Validation Loss: 1.1258, Accuracy: 44.00%\n",
      "Epoch 65, Loss: 0.3309\n",
      "Validation Loss: 1.1475, Accuracy: 44.00%\n",
      "Epoch 66, Loss: 0.3989\n",
      "Validation Loss: 1.1545, Accuracy: 44.00%\n",
      "Epoch 67, Loss: 0.3417\n",
      "Validation Loss: 1.1410, Accuracy: 44.00%\n",
      "Epoch 68, Loss: 0.4096\n",
      "Validation Loss: 1.1351, Accuracy: 44.00%\n",
      "Epoch 69, Loss: 0.3442\n",
      "Validation Loss: 1.1393, Accuracy: 44.00%\n",
      "Epoch 70, Loss: 0.3792\n",
      "Validation Loss: 1.1459, Accuracy: 44.00%\n",
      "Epoch 71, Loss: 0.3858\n",
      "Validation Loss: 1.1407, Accuracy: 44.00%\n",
      "Epoch 72, Loss: 0.3447\n",
      "Validation Loss: 1.1349, Accuracy: 45.00%\n",
      "Epoch 73, Loss: 0.3352\n",
      "Validation Loss: 1.1443, Accuracy: 45.00%\n",
      "Epoch 74, Loss: 0.3763\n",
      "Validation Loss: 1.1531, Accuracy: 44.00%\n",
      "Epoch 75, Loss: 0.3490\n",
      "Validation Loss: 1.1580, Accuracy: 44.00%\n",
      "Epoch 76, Loss: 0.3773\n",
      "Validation Loss: 1.1601, Accuracy: 43.00%\n",
      "Epoch 77, Loss: 0.3406\n",
      "Validation Loss: 1.1553, Accuracy: 44.00%\n",
      "Epoch 78, Loss: 0.3373\n",
      "Validation Loss: 1.1600, Accuracy: 44.00%\n",
      "Epoch 79, Loss: 0.3190\n",
      "Validation Loss: 1.1720, Accuracy: 44.00%\n",
      "Epoch 80, Loss: 0.3852\n",
      "Validation Loss: 1.1765, Accuracy: 44.00%\n",
      "Epoch 81, Loss: 0.3529\n",
      "Validation Loss: 1.1726, Accuracy: 45.00%\n",
      "Epoch 82, Loss: 0.3353\n",
      "Validation Loss: 1.1703, Accuracy: 45.00%\n",
      "Epoch 83, Loss: 0.3760\n",
      "Validation Loss: 1.1829, Accuracy: 45.00%\n",
      "Epoch 84, Loss: 0.3204\n",
      "Validation Loss: 1.1852, Accuracy: 44.00%\n",
      "Epoch 85, Loss: 0.3277\n",
      "Validation Loss: 1.1809, Accuracy: 44.00%\n",
      "Epoch 86, Loss: 0.3983\n",
      "Validation Loss: 1.1783, Accuracy: 45.00%\n",
      "Epoch 87, Loss: 0.3527\n",
      "Validation Loss: 1.1741, Accuracy: 45.00%\n",
      "Epoch 88, Loss: 0.3258\n",
      "Validation Loss: 1.1749, Accuracy: 45.00%\n",
      "Epoch 89, Loss: 0.3352\n",
      "Validation Loss: 1.1843, Accuracy: 45.00%\n",
      "Epoch 90, Loss: 0.3195\n",
      "Validation Loss: 1.1891, Accuracy: 46.00%\n",
      "Epoch 91, Loss: 0.3521\n",
      "Validation Loss: 1.1939, Accuracy: 46.00%\n",
      "Epoch 92, Loss: 0.3160\n",
      "Validation Loss: 1.1880, Accuracy: 46.00%\n",
      "Epoch 93, Loss: 0.3689\n",
      "Validation Loss: 1.1914, Accuracy: 46.00%\n",
      "Epoch 94, Loss: 0.3316\n",
      "Validation Loss: 1.1929, Accuracy: 46.00%\n",
      "Epoch 95, Loss: 0.3278\n",
      "Validation Loss: 1.1977, Accuracy: 45.00%\n",
      "Epoch 96, Loss: 0.3198\n",
      "Validation Loss: 1.2060, Accuracy: 44.00%\n",
      "Epoch 97, Loss: 0.4114\n",
      "Validation Loss: 1.2123, Accuracy: 45.00%\n",
      "Epoch 98, Loss: 0.3774\n",
      "Validation Loss: 1.2170, Accuracy: 43.00%\n",
      "Epoch 99, Loss: 0.3186\n",
      "Validation Loss: 1.2127, Accuracy: 46.00%\n",
      "Epoch 100, Loss: 0.4068\n",
      "Validation Loss: 1.2075, Accuracy: 46.00%\n"
     ]
    }
   ],
   "source": [
    "# Train and evaluate the model\n",
    "epochs=100\n",
    "train_losses, val_losses = train(model, train_loader, loss_fn, optimizer, epochs=epochs)"
   ]
  },
  {
   "cell_type": "code",
   "execution_count": 36,
   "id": "54f3211a",
   "metadata": {},
   "outputs": [
    {
     "data": {
      "image/png": "[encoded data removed]",
      "text/plain": [
       "<Figure size 1000x500 with 1 Axes>"
      ]
     },
     "metadata": {},
     "output_type": "display_data"
    }
   ],
   "source": [
    "# Ensure both lists have the same length for plotting\n",
    "assert len(train_losses) == len(val_losses), \"Train and validation loss lists must be of the same length\"\n",
    "\n",
    "# Plotting training loss and validation loss\n",
    "plt.figure(figsize=(10, 5))\n",
    "plt.plot(range(1, epochs + 1), train_losses, label='Training Loss', linestyle='--', color='b')\n",
    "plt.plot(range(1, epochs + 1), val_losses, label='Validation Loss', linestyle='-', color='r')\n",
    "plt.xlabel('Epochs')\n",
    "plt.ylabel('Loss')\n",
    "plt.title('Training Loss and Validation Loss')\n",
    "plt.legend()\n",
    "plt.show()"
   ]
  },
  {
   "cell_type": "code",
   "execution_count": 37,
   "id": "8853d434",
   "metadata": {},
   "outputs": [],
   "source": [
    "def predict(model, input_sequence):\n",
    "    model.eval()\n",
    "    with torch.no_grad():\n",
    "        output = model(input_sequence)\n",
    "        prediction = torch.sigmoid(output).item()  # Convert logits to probability\n",
    "        return prediction"
   ]
  },
  {
   "cell_type": "code",
   "execution_count": 38,
   "id": "55971445",
   "metadata": {},
   "outputs": [
    {
     "name": "stdout",
     "output_type": "stream",
     "text": [
      "Predicted Label: 0.9170\n"
     ]
    }
   ],
   "source": [
    "example_sequence = torch.tensor([[[0.1, 0.2], [0.3, 0.4], [0.5, 0.6], [0.7, 0.8]]], dtype=torch.float32)\n",
    "predicted_label = predict(model, example_sequence)\n",
    "print(f'Predicted Label: {predicted_label:.4f}')"
   ]
  },
  {
   "cell_type": "code",
   "execution_count": null,
   "id": "b0ffd7c9",
   "metadata": {},
   "outputs": [],
   "source": []
  }
 ],
 "metadata": {
  "kernelspec": {
   "display_name": "Python 3 (ipykernel)",
   "language": "python",
   "name": "python3"
  },
  "language_info": {
   "codemirror_mode": {
    "name": "ipython",
    "version": 3
   },
   "file_extension": ".py",
   "mimetype": "text/x-python",
   "name": "python",
   "nbconvert_exporter": "python",
   "pygments_lexer": "ipython3",
   "version": "3.10.12"
  }
 },
 "nbformat": 4,
 "nbformat_minor": 5
}
